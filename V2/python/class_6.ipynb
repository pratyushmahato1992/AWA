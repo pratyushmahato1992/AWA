{
 "cells": [
  {
   "cell_type": "markdown",
   "id": "e39dd0b1-d6e4-406e-9760-fb733903900a",
   "metadata": {},
   "source": [
    "# String functions & Methods"
   ]
  },
  {
   "cell_type": "code",
   "execution_count": 1,
   "id": "54717b77-f8ea-4829-ae07-88e145c7bfa8",
   "metadata": {},
   "outputs": [],
   "source": [
    "var = 'pratyush'"
   ]
  },
  {
   "cell_type": "code",
   "execution_count": 2,
   "id": "d03a61fe",
   "metadata": {},
   "outputs": [],
   "source": [
    "var1 = \"mahato\""
   ]
  },
  {
   "cell_type": "code",
   "execution_count": 3,
   "id": "5c464f7a",
   "metadata": {},
   "outputs": [],
   "source": [
    "var3 = \"\"\"incubit\"\"\""
   ]
  },
  {
   "cell_type": "code",
   "execution_count": 4,
   "id": "3d0cef73",
   "metadata": {},
   "outputs": [],
   "source": [
    "my_str = 'python'"
   ]
  },
  {
   "cell_type": "code",
   "execution_count": 5,
   "id": "8087a704",
   "metadata": {},
   "outputs": [
    {
     "data": {
      "text/plain": [
       "'p'"
      ]
     },
     "execution_count": 5,
     "metadata": {},
     "output_type": "execute_result"
    }
   ],
   "source": [
    "# string indexes start from 0\n",
    "my_str[0]"
   ]
  },
  {
   "cell_type": "code",
   "execution_count": 6,
   "id": "bd5c4cf9",
   "metadata": {},
   "outputs": [
    {
     "data": {
      "text/plain": [
       "6"
      ]
     },
     "execution_count": 6,
     "metadata": {},
     "output_type": "execute_result"
    }
   ],
   "source": [
    "# length of string\n",
    "len(my_str) "
   ]
  },
  {
   "cell_type": "code",
   "execution_count": 7,
   "id": "8182cb7b",
   "metadata": {},
   "outputs": [
    {
     "data": {
      "text/plain": [
       "'n'"
      ]
     },
     "execution_count": 7,
     "metadata": {},
     "output_type": "execute_result"
    }
   ],
   "source": [
    "my_str[-1]"
   ]
  },
  {
   "cell_type": "code",
   "execution_count": 8,
   "id": "204c74ed",
   "metadata": {},
   "outputs": [
    {
     "data": {
      "text/plain": [
       "'n'"
      ]
     },
     "execution_count": 8,
     "metadata": {},
     "output_type": "execute_result"
    }
   ],
   "source": [
    "my_str[5]"
   ]
  },
  {
   "cell_type": "code",
   "execution_count": 9,
   "id": "d77fe80e",
   "metadata": {},
   "outputs": [],
   "source": [
    "my_str1 = 'Pratyush Mahato'"
   ]
  },
  {
   "cell_type": "code",
   "execution_count": 10,
   "id": "48381447",
   "metadata": {},
   "outputs": [
    {
     "data": {
      "text/plain": [
       "15"
      ]
     },
     "execution_count": 10,
     "metadata": {},
     "output_type": "execute_result"
    }
   ],
   "source": [
    "len(my_str1)"
   ]
  },
  {
   "cell_type": "code",
   "execution_count": 11,
   "id": "6e63eb79",
   "metadata": {},
   "outputs": [
    {
     "data": {
      "text/plain": [
       "'pratyush mahato'"
      ]
     },
     "execution_count": 11,
     "metadata": {},
     "output_type": "execute_result"
    }
   ],
   "source": [
    "my_str1.lower()"
   ]
  },
  {
   "cell_type": "code",
   "execution_count": 12,
   "id": "843f452a",
   "metadata": {},
   "outputs": [
    {
     "data": {
      "text/plain": [
       "'PRATYUSH MAHATO'"
      ]
     },
     "execution_count": 12,
     "metadata": {},
     "output_type": "execute_result"
    }
   ],
   "source": [
    "my_str1.upper()"
   ]
  },
  {
   "cell_type": "code",
   "execution_count": 13,
   "id": "e53fd5e9",
   "metadata": {},
   "outputs": [
    {
     "data": {
      "text/plain": [
       "'Pratyush mahato'"
      ]
     },
     "execution_count": 13,
     "metadata": {},
     "output_type": "execute_result"
    }
   ],
   "source": [
    "my_str1.capitalize()"
   ]
  },
  {
   "cell_type": "code",
   "execution_count": 14,
   "id": "b1e83fd2",
   "metadata": {},
   "outputs": [
    {
     "data": {
      "text/plain": [
       "['Pra', 'yush Maha', 'o']"
      ]
     },
     "execution_count": 14,
     "metadata": {},
     "output_type": "execute_result"
    }
   ],
   "source": [
    "my_str1.split(\"t\") # output is a list"
   ]
  },
  {
   "cell_type": "code",
   "execution_count": 15,
   "id": "286fe5b0",
   "metadata": {},
   "outputs": [
    {
     "data": {
      "text/plain": [
       "'Prbtyush Mbhbto'"
      ]
     },
     "execution_count": 15,
     "metadata": {},
     "output_type": "execute_result"
    }
   ],
   "source": [
    "my_str1.replace('a','b')"
   ]
  },
  {
   "cell_type": "code",
   "execution_count": 16,
   "id": "d91b2191",
   "metadata": {},
   "outputs": [
    {
     "data": {
      "text/plain": [
       "10"
      ]
     },
     "execution_count": 16,
     "metadata": {},
     "output_type": "execute_result"
    }
   ],
   "source": [
    "my_str1.find('a', 3,-1) # gives only the first occurance"
   ]
  },
  {
   "cell_type": "code",
   "execution_count": 17,
   "id": "7d32e3dc",
   "metadata": {},
   "outputs": [
    {
     "data": {
      "text/plain": [
       "False"
      ]
     },
     "execution_count": 17,
     "metadata": {},
     "output_type": "execute_result"
    }
   ],
   "source": [
    "my_str1.startswith('a')"
   ]
  },
  {
   "cell_type": "code",
   "execution_count": 18,
   "id": "6c7410e6",
   "metadata": {},
   "outputs": [
    {
     "data": {
      "text/plain": [
       "True"
      ]
     },
     "execution_count": 18,
     "metadata": {},
     "output_type": "execute_result"
    }
   ],
   "source": [
    "my_str1.endswith('o')"
   ]
  },
  {
   "cell_type": "code",
   "execution_count": 19,
   "id": "7c8ae8f3",
   "metadata": {},
   "outputs": [
    {
     "data": {
      "text/plain": [
       "'aPratyush MahatobPratyush Mahatoc'"
      ]
     },
     "execution_count": 19,
     "metadata": {},
     "output_type": "execute_result"
    }
   ],
   "source": [
    "my_str1.join('abc') # output is a string"
   ]
  },
  {
   "cell_type": "code",
   "execution_count": 20,
   "id": "4b5ae59c",
   "metadata": {},
   "outputs": [
    {
     "data": {
      "text/plain": [
       "3"
      ]
     },
     "execution_count": 20,
     "metadata": {},
     "output_type": "execute_result"
    }
   ],
   "source": [
    "my_str1.count('a')"
   ]
  },
  {
   "cell_type": "code",
   "execution_count": 21,
   "id": "76a8321a",
   "metadata": {},
   "outputs": [
    {
     "data": {
      "text/plain": [
       "'Pratyush Mahato'"
      ]
     },
     "execution_count": 21,
     "metadata": {},
     "output_type": "execute_result"
    }
   ],
   "source": [
    "my_str1.title()"
   ]
  },
  {
   "cell_type": "code",
   "execution_count": 22,
   "id": "df93f3fe",
   "metadata": {},
   "outputs": [],
   "source": [
    "sen = 'Hello, Welcome'"
   ]
  },
  {
   "cell_type": "code",
   "execution_count": 23,
   "id": "5c51113d",
   "metadata": {},
   "outputs": [
    {
     "data": {
      "text/plain": [
       "14"
      ]
     },
     "execution_count": 23,
     "metadata": {},
     "output_type": "execute_result"
    }
   ],
   "source": [
    "len(sen)"
   ]
  },
  {
   "cell_type": "code",
   "execution_count": 24,
   "id": "51fa274a",
   "metadata": {},
   "outputs": [],
   "source": [
    "sen1 = '  abccd         '"
   ]
  },
  {
   "cell_type": "code",
   "execution_count": 25,
   "id": "a418cb19",
   "metadata": {},
   "outputs": [
    {
     "data": {
      "text/plain": [
       "'abccd'"
      ]
     },
     "execution_count": 25,
     "metadata": {},
     "output_type": "execute_result"
    }
   ],
   "source": [
    "sen1.strip()"
   ]
  },
  {
   "cell_type": "code",
   "execution_count": 26,
   "id": "e0e6d88f",
   "metadata": {},
   "outputs": [
    {
     "data": {
      "text/plain": [
       "'abccd         '"
      ]
     },
     "execution_count": 26,
     "metadata": {},
     "output_type": "execute_result"
    }
   ],
   "source": [
    "sen1.lstrip()"
   ]
  },
  {
   "cell_type": "code",
   "execution_count": 27,
   "id": "e9becefb",
   "metadata": {},
   "outputs": [
    {
     "data": {
      "text/plain": [
       "'  abccd'"
      ]
     },
     "execution_count": 27,
     "metadata": {},
     "output_type": "execute_result"
    }
   ],
   "source": [
    "sen1.rstrip()"
   ]
  },
  {
   "cell_type": "code",
   "execution_count": 28,
   "id": "a8034748",
   "metadata": {},
   "outputs": [
    {
     "data": {
      "text/plain": [
       "'  abccd         '"
      ]
     },
     "execution_count": 28,
     "metadata": {},
     "output_type": "execute_result"
    }
   ],
   "source": [
    "sen1 # original variable is not changed. strings are immutable"
   ]
  },
  {
   "cell_type": "code",
   "execution_count": 29,
   "id": "46577f2a",
   "metadata": {},
   "outputs": [],
   "source": [
    "my_name = 'pratyush '"
   ]
  },
  {
   "cell_type": "code",
   "execution_count": 30,
   "id": "a48f2e19",
   "metadata": {},
   "outputs": [
    {
     "data": {
      "text/plain": [
       "['PR', 'TYUSH ']"
      ]
     },
     "execution_count": 30,
     "metadata": {},
     "output_type": "execute_result"
    }
   ],
   "source": [
    "my_name.upper().split('A')"
   ]
  },
  {
   "cell_type": "code",
   "execution_count": 31,
   "id": "9cfdce7c",
   "metadata": {},
   "outputs": [
    {
     "data": {
      "text/plain": [
       "['p', 'r', 'a', 't', 'y', 'u', 's', 'h', ' ']"
      ]
     },
     "execution_count": 31,
     "metadata": {},
     "output_type": "execute_result"
    }
   ],
   "source": [
    "list(my_name) # split each alphabet"
   ]
  },
  {
   "cell_type": "code",
   "execution_count": 32,
   "id": "7b8ea6df",
   "metadata": {},
   "outputs": [
    {
     "data": {
      "text/plain": [
       "['Pratyush', 'Mahato']"
      ]
     },
     "execution_count": 32,
     "metadata": {},
     "output_type": "execute_result"
    }
   ],
   "source": [
    "new_str = my_str1.split()\n",
    "new_str"
   ]
  },
  {
   "cell_type": "code",
   "execution_count": 33,
   "id": "5cc08d3c",
   "metadata": {},
   "outputs": [
    {
     "data": {
      "text/plain": [
       "'Pratyush Mahato'"
      ]
     },
     "execution_count": 33,
     "metadata": {},
     "output_type": "execute_result"
    }
   ],
   "source": [
    "' '.join(new_str)"
   ]
  },
  {
   "cell_type": "code",
   "execution_count": 35,
   "id": "bb496b83",
   "metadata": {},
   "outputs": [
    {
     "data": {
      "text/plain": [
       "'Pratyush|Mahato'"
      ]
     },
     "execution_count": 35,
     "metadata": {},
     "output_type": "execute_result"
    }
   ],
   "source": [
    "my_str1.replace(' ', '|')"
   ]
  },
  {
   "cell_type": "code",
   "execution_count": 36,
   "id": "dd42de9f",
   "metadata": {},
   "outputs": [],
   "source": [
    "my_str2 = \"Hello, World!\""
   ]
  },
  {
   "cell_type": "code",
   "execution_count": 37,
   "id": "ba7a402c",
   "metadata": {},
   "outputs": [
    {
     "data": {
      "text/plain": [
       "7"
      ]
     },
     "execution_count": 37,
     "metadata": {},
     "output_type": "execute_result"
    }
   ],
   "source": [
    "my_str2.find('World')"
   ]
  },
  {
   "cell_type": "code",
   "execution_count": null,
   "id": "c2ab878f",
   "metadata": {},
   "outputs": [
    {
     "data": {
      "text/plain": [
       "-1"
      ]
     },
     "execution_count": 38,
     "metadata": {},
     "output_type": "execute_result"
    }
   ],
   "source": [
    "my_str2.find('world') # find is case sensitive, if the string is not found it will return -1"
   ]
  },
  {
   "cell_type": "code",
   "execution_count": 39,
   "id": "22683216",
   "metadata": {},
   "outputs": [
    {
     "data": {
      "text/plain": [
       "'Today is a beautiful Day'"
      ]
     },
     "execution_count": 39,
     "metadata": {},
     "output_type": "execute_result"
    }
   ],
   "source": [
    "my_str3 = 'Today is a beautiful Day'\n",
    "my_str3"
   ]
  },
  {
   "cell_type": "code",
   "execution_count": 40,
   "id": "1415fac9",
   "metadata": {},
   "outputs": [
    {
     "data": {
      "text/plain": [
       "21"
      ]
     },
     "execution_count": 40,
     "metadata": {},
     "output_type": "execute_result"
    }
   ],
   "source": [
    "my_str3.find('D')"
   ]
  },
  {
   "cell_type": "code",
   "execution_count": 41,
   "id": "569b2d42",
   "metadata": {},
   "outputs": [
    {
     "data": {
      "text/plain": [
       "2"
      ]
     },
     "execution_count": 41,
     "metadata": {},
     "output_type": "execute_result"
    }
   ],
   "source": [
    "my_str3.lower().find('day')"
   ]
  },
  {
   "cell_type": "code",
   "execution_count": 42,
   "id": "1dad5cb3",
   "metadata": {},
   "outputs": [
    {
     "data": {
      "text/plain": [
       "True"
      ]
     },
     "execution_count": 42,
     "metadata": {},
     "output_type": "execute_result"
    }
   ],
   "source": [
    "my_str3.endswith('y')"
   ]
  },
  {
   "cell_type": "code",
   "execution_count": 44,
   "id": "17d819b1",
   "metadata": {},
   "outputs": [
    {
     "data": {
      "text/plain": [
       "1"
      ]
     },
     "execution_count": 44,
     "metadata": {},
     "output_type": "execute_result"
    }
   ],
   "source": [
    "my_str3.count('Day')"
   ]
  },
  {
   "cell_type": "code",
   "execution_count": 51,
   "id": "2530b741",
   "metadata": {},
   "outputs": [
    {
     "data": {
      "text/plain": [
       "'Hello, World!'"
      ]
     },
     "execution_count": 51,
     "metadata": {},
     "output_type": "execute_result"
    }
   ],
   "source": [
    "my_str2"
   ]
  },
  {
   "cell_type": "code",
   "execution_count": null,
   "id": "7fa4795f",
   "metadata": {},
   "outputs": [
    {
     "data": {
      "text/plain": [
       "'Hello'"
      ]
     },
     "execution_count": 46,
     "metadata": {},
     "output_type": "execute_result"
    }
   ],
   "source": [
    "my_str2[:5] # String slicing: 5th is not present in the output. string starts from 0"
   ]
  },
  {
   "cell_type": "code",
   "execution_count": 47,
   "id": "5e46f0dc",
   "metadata": {},
   "outputs": [
    {
     "data": {
      "text/plain": [
       "'ello'"
      ]
     },
     "execution_count": 47,
     "metadata": {},
     "output_type": "execute_result"
    }
   ],
   "source": [
    "my_str2[1:5]"
   ]
  },
  {
   "cell_type": "code",
   "execution_count": 48,
   "id": "a63de46a",
   "metadata": {},
   "outputs": [
    {
     "data": {
      "text/plain": [
       "'llo, World!'"
      ]
     },
     "execution_count": 48,
     "metadata": {},
     "output_type": "execute_result"
    }
   ],
   "source": [
    "my_str2[2:]"
   ]
  },
  {
   "cell_type": "code",
   "execution_count": 49,
   "id": "f8f2cec0",
   "metadata": {},
   "outputs": [
    {
     "data": {
      "text/plain": [
       "'lo ol!'"
      ]
     },
     "execution_count": 49,
     "metadata": {},
     "output_type": "execute_result"
    }
   ],
   "source": [
    "my_str2[2::2]"
   ]
  },
  {
   "cell_type": "code",
   "execution_count": 50,
   "id": "45483107",
   "metadata": {},
   "outputs": [
    {
     "data": {
      "text/plain": [
       "'Hello, World!'"
      ]
     },
     "execution_count": 50,
     "metadata": {},
     "output_type": "execute_result"
    }
   ],
   "source": [
    "my_str2"
   ]
  },
  {
   "cell_type": "code",
   "execution_count": null,
   "id": "c7f51fb6",
   "metadata": {},
   "outputs": [
    {
     "data": {
      "text/plain": [
       "'!dlroW ,olleH'"
      ]
     },
     "execution_count": 56,
     "metadata": {},
     "output_type": "execute_result"
    }
   ],
   "source": [
    "my_str2[::-1] # reverse string"
   ]
  },
  {
   "cell_type": "code",
   "execution_count": 57,
   "id": "1baedd41",
   "metadata": {},
   "outputs": [
    {
     "data": {
      "text/plain": [
       "'!lo ol'"
      ]
     },
     "execution_count": 57,
     "metadata": {},
     "output_type": "execute_result"
    }
   ],
   "source": [
    "my_str2[-1:0:-2]"
   ]
  },
  {
   "cell_type": "code",
   "execution_count": 60,
   "id": "6e700d8a",
   "metadata": {},
   "outputs": [
    {
     "data": {
      "text/plain": [
       "'rd'"
      ]
     },
     "execution_count": 60,
     "metadata": {},
     "output_type": "execute_result"
    }
   ],
   "source": [
    "my_str2[-4:-1:2]"
   ]
  },
  {
   "cell_type": "code",
   "execution_count": 61,
   "id": "a37cb09b",
   "metadata": {},
   "outputs": [
    {
     "data": {
      "text/plain": [
       "''"
      ]
     },
     "execution_count": 61,
     "metadata": {},
     "output_type": "execute_result"
    }
   ],
   "source": [
    "my_str2[-4:-1:-2]\n"
   ]
  },
  {
   "cell_type": "code",
   "execution_count": null,
   "id": "a39ad08a",
   "metadata": {},
   "outputs": [],
   "source": []
  },
  {
   "cell_type": "code",
   "execution_count": null,
   "id": "60a4dbfc",
   "metadata": {},
   "outputs": [],
   "source": []
  }
 ],
 "metadata": {
  "kernelspec": {
   "display_name": "base",
   "language": "python",
   "name": "python3"
  },
  "language_info": {
   "codemirror_mode": {
    "name": "ipython",
    "version": 3
   },
   "file_extension": ".py",
   "mimetype": "text/x-python",
   "name": "python",
   "nbconvert_exporter": "python",
   "pygments_lexer": "ipython3",
   "version": "3.12.7"
  }
 },
 "nbformat": 4,
 "nbformat_minor": 5
}
