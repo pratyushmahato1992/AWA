{
 "cells": [
  {
   "cell_type": "code",
   "execution_count": 1,
   "id": "47ae210a",
   "metadata": {},
   "outputs": [
    {
     "name": "stdout",
     "output_type": "stream",
     "text": [
      "finally block executed!\n"
     ]
    }
   ],
   "source": [
    "try:\n",
    "    num1 = int(input('Enter first number: '))\n",
    "    num2 = int(input('Enter second number: '))\n",
    "\n",
    "    result = num1/num2\n",
    "\n",
    "except Exception as e:\n",
    "    print(f'error is: {e}')\n",
    "finally:\n",
    "    print('finally block executed!')"
   ]
  },
  {
   "cell_type": "code",
   "execution_count": 2,
   "id": "d0d73938",
   "metadata": {},
   "outputs": [
    {
     "name": "stdout",
     "output_type": "stream",
     "text": [
      "Result: 5.0\n",
      "Finally block executed!\n"
     ]
    }
   ],
   "source": [
    "try:\n",
    "    num1 = int(input('Enter first number: '))\n",
    "    num2 = int(input('Enter second number: '))\n",
    "\n",
    "    result = num1/num2\n",
    "\n",
    "except ZeroDivisionError:\n",
    "    print('cannot be divided by zero')\n",
    "except ValueError:\n",
    "    print('invalid input')\n",
    "else:\n",
    "    print(f'Result: {result}')\n",
    "finally:\n",
    "    print('Finally block executed!')"
   ]
  },
  {
   "cell_type": "markdown",
   "id": "cb90c4ad",
   "metadata": {},
   "source": [
    "# Data Types"
   ]
  },
  {
   "cell_type": "markdown",
   "id": "2185c071",
   "metadata": {},
   "source": [
    "## 1. Lists "
   ]
  },
  {
   "cell_type": "code",
   "execution_count": 3,
   "id": "69bf6b0f",
   "metadata": {},
   "outputs": [],
   "source": [
    "l1 = [1,2,3,\"a\", \"b\", 2.323, (5,6,7), {4,8,9}, {1:'abc', 2: 2+3j}, True]  "
   ]
  },
  {
   "cell_type": "code",
   "execution_count": 4,
   "id": "0a5af1e3",
   "metadata": {},
   "outputs": [
    {
     "data": {
      "text/plain": [
       "True"
      ]
     },
     "execution_count": 4,
     "metadata": {},
     "output_type": "execute_result"
    }
   ],
   "source": [
    "l1[-1]"
   ]
  },
  {
   "cell_type": "code",
   "execution_count": 5,
   "id": "3b7a0f8c",
   "metadata": {},
   "outputs": [
    {
     "data": {
      "text/plain": [
       "2"
      ]
     },
     "execution_count": 5,
     "metadata": {},
     "output_type": "execute_result"
    }
   ],
   "source": [
    "l1[1]"
   ]
  },
  {
   "cell_type": "code",
   "execution_count": 6,
   "id": "4a217a2d",
   "metadata": {},
   "outputs": [
    {
     "data": {
      "text/plain": [
       "{4, 8, 9}"
      ]
     },
     "execution_count": 6,
     "metadata": {},
     "output_type": "execute_result"
    }
   ],
   "source": [
    "l1[7]"
   ]
  },
  {
   "cell_type": "code",
   "execution_count": 7,
   "id": "5c8941fa",
   "metadata": {},
   "outputs": [
    {
     "data": {
      "text/plain": [
       "6"
      ]
     },
     "execution_count": 7,
     "metadata": {},
     "output_type": "execute_result"
    }
   ],
   "source": [
    "l1[6][1]"
   ]
  },
  {
   "cell_type": "code",
   "execution_count": 8,
   "id": "16093d78",
   "metadata": {},
   "outputs": [],
   "source": [
    "l1.append('xyz') # adds at the end the list. existing list is changed as it is mutable"
   ]
  },
  {
   "cell_type": "code",
   "execution_count": 9,
   "id": "eaebbf5e",
   "metadata": {},
   "outputs": [
    {
     "data": {
      "text/plain": [
       "[1,\n",
       " 2,\n",
       " 3,\n",
       " 'a',\n",
       " 'b',\n",
       " 2.323,\n",
       " (5, 6, 7),\n",
       " {4, 8, 9},\n",
       " {1: 'abc', 2: (2+3j)},\n",
       " True,\n",
       " 'xyz']"
      ]
     },
     "execution_count": 9,
     "metadata": {},
     "output_type": "execute_result"
    }
   ],
   "source": [
    "l1"
   ]
  },
  {
   "cell_type": "code",
   "execution_count": 10,
   "id": "fb21bd89",
   "metadata": {},
   "outputs": [],
   "source": [
    "l2 = l1.append('iop')"
   ]
  },
  {
   "cell_type": "code",
   "execution_count": 11,
   "id": "e21ebac4",
   "metadata": {},
   "outputs": [
    {
     "name": "stdout",
     "output_type": "stream",
     "text": [
      "None\n"
     ]
    }
   ],
   "source": [
    "print(l2) # there is no data in l2"
   ]
  },
  {
   "cell_type": "code",
   "execution_count": 12,
   "id": "0b99a979",
   "metadata": {},
   "outputs": [
    {
     "data": {
      "text/plain": [
       "NoneType"
      ]
     },
     "execution_count": 12,
     "metadata": {},
     "output_type": "execute_result"
    }
   ],
   "source": [
    "type(l2)"
   ]
  },
  {
   "cell_type": "code",
   "execution_count": 13,
   "id": "04d2734d",
   "metadata": {},
   "outputs": [
    {
     "data": {
      "text/plain": [
       "[1,\n",
       " 2,\n",
       " 3,\n",
       " 'a',\n",
       " 'b',\n",
       " 2.323,\n",
       " (5, 6, 7),\n",
       " {4, 8, 9},\n",
       " {1: 'abc', 2: (2+3j)},\n",
       " True,\n",
       " 'xyz',\n",
       " 'iop']"
      ]
     },
     "execution_count": 13,
     "metadata": {},
     "output_type": "execute_result"
    }
   ],
   "source": [
    "l1"
   ]
  },
  {
   "cell_type": "code",
   "execution_count": 14,
   "id": "d82bc83c",
   "metadata": {},
   "outputs": [
    {
     "data": {
      "text/plain": [
       "[1,\n",
       " 2,\n",
       " 3,\n",
       " 'a',\n",
       " 'b',\n",
       " 2.323,\n",
       " (5, 6, 7),\n",
       " {4, 8, 9},\n",
       " {1: 'abc', 2: (2+3j)},\n",
       " True,\n",
       " 'xyz',\n",
       " 'iop']"
      ]
     },
     "execution_count": 14,
     "metadata": {},
     "output_type": "execute_result"
    }
   ],
   "source": [
    "l1"
   ]
  },
  {
   "cell_type": "code",
   "execution_count": 15,
   "id": "03531998",
   "metadata": {},
   "outputs": [],
   "source": [
    "l1.insert(1, 72) # inserting data at a particular index"
   ]
  },
  {
   "cell_type": "code",
   "execution_count": 16,
   "id": "ae15fbdb",
   "metadata": {},
   "outputs": [
    {
     "data": {
      "text/plain": [
       "[1,\n",
       " 72,\n",
       " 2,\n",
       " 3,\n",
       " 'a',\n",
       " 'b',\n",
       " 2.323,\n",
       " (5, 6, 7),\n",
       " {4, 8, 9},\n",
       " {1: 'abc', 2: (2+3j)},\n",
       " True,\n",
       " 'xyz',\n",
       " 'iop']"
      ]
     },
     "execution_count": 16,
     "metadata": {},
     "output_type": "execute_result"
    }
   ],
   "source": [
    "l1"
   ]
  },
  {
   "cell_type": "code",
   "execution_count": 17,
   "id": "11a02f1a",
   "metadata": {},
   "outputs": [],
   "source": [
    "l1.insert(-1, 987) # using insert we cannot insert at the end, we have to use append "
   ]
  },
  {
   "cell_type": "code",
   "execution_count": 18,
   "id": "d52a9044",
   "metadata": {},
   "outputs": [
    {
     "data": {
      "text/plain": [
       "[1,\n",
       " 72,\n",
       " 2,\n",
       " 3,\n",
       " 'a',\n",
       " 'b',\n",
       " 2.323,\n",
       " (5, 6, 7),\n",
       " {4, 8, 9},\n",
       " {1: 'abc', 2: (2+3j)},\n",
       " True,\n",
       " 'xyz',\n",
       " 987,\n",
       " 'iop']"
      ]
     },
     "execution_count": 18,
     "metadata": {},
     "output_type": "execute_result"
    }
   ],
   "source": [
    "l1"
   ]
  },
  {
   "cell_type": "code",
   "execution_count": 19,
   "id": "b4801e25",
   "metadata": {},
   "outputs": [],
   "source": [
    "l2 = [[1,2,3,4,'prachi', ['p','r','a']],1234,{'abc', 'def'},78,91,(12,'a',6)]"
   ]
  },
  {
   "cell_type": "code",
   "execution_count": 20,
   "id": "6374d52b",
   "metadata": {},
   "outputs": [
    {
     "data": {
      "text/plain": [
       "'r'"
      ]
     },
     "execution_count": 20,
     "metadata": {},
     "output_type": "execute_result"
    }
   ],
   "source": [
    "# access the r\n",
    "l2[0][-1][1]"
   ]
  },
  {
   "cell_type": "code",
   "execution_count": 21,
   "id": "fd0a9b5f",
   "metadata": {},
   "outputs": [
    {
     "name": "stdout",
     "output_type": "stream",
     "text": [
      "[[1, 2, 3, 4, 'prachi', ['p', 'r', 'a']], 1234, {'abc', 'def'}, 78, 91, (12, 'a', 6), 'suraj']\n"
     ]
    }
   ],
   "source": [
    "# insert 'suraj' at the end\n",
    "l2.append('suraj')\n",
    "print(l2)"
   ]
  },
  {
   "cell_type": "code",
   "execution_count": 22,
   "id": "4a934743",
   "metadata": {},
   "outputs": [
    {
     "name": "stdout",
     "output_type": "stream",
     "text": [
      "[[1, 2, 3, 4, 'prachi', ['p', 'r', 'a']], 1234, {'abc', 'def'}, 'vatsala', 78, 91, (12, 'a', 6), 'suraj']\n"
     ]
    }
   ],
   "source": [
    "# insert 'vatsala' at the 3rd index\n",
    "l2.insert(3, 'vatsala')\n",
    "print(l2)"
   ]
  },
  {
   "cell_type": "code",
   "execution_count": 23,
   "id": "28fbd437",
   "metadata": {},
   "outputs": [],
   "source": [
    "# .remove will remove the first occurance of any item\n",
    "l3 = ['apple', 'banana', 'kiwi', 'apple']"
   ]
  },
  {
   "cell_type": "code",
   "execution_count": 24,
   "id": "6d911dad",
   "metadata": {},
   "outputs": [
    {
     "name": "stdout",
     "output_type": "stream",
     "text": [
      "['banana', 'kiwi', 'apple']\n"
     ]
    }
   ],
   "source": [
    "l3.remove('apple')\n",
    "print(l3)"
   ]
  },
  {
   "cell_type": "code",
   "execution_count": 25,
   "id": "56781da0",
   "metadata": {},
   "outputs": [],
   "source": [
    "# .pop will remove item based on index values, if no index is given last element will be removed\n",
    "fruits = ['apple', 'banana', 'cherry', 'papaya']"
   ]
  },
  {
   "cell_type": "code",
   "execution_count": 26,
   "id": "9f7913b7",
   "metadata": {},
   "outputs": [
    {
     "data": {
      "text/plain": [
       "'banana'"
      ]
     },
     "execution_count": 26,
     "metadata": {},
     "output_type": "execute_result"
    }
   ],
   "source": [
    "fruits.pop(1) # removes item at index 1"
   ]
  },
  {
   "cell_type": "code",
   "execution_count": 27,
   "id": "77a2e131",
   "metadata": {},
   "outputs": [
    {
     "data": {
      "text/plain": [
       "['apple', 'cherry', 'papaya']"
      ]
     },
     "execution_count": 27,
     "metadata": {},
     "output_type": "execute_result"
    }
   ],
   "source": [
    "fruits"
   ]
  },
  {
   "cell_type": "code",
   "execution_count": 28,
   "id": "d25171dd",
   "metadata": {},
   "outputs": [
    {
     "name": "stdout",
     "output_type": "stream",
     "text": [
      "['apple', 'cherry']\n"
     ]
    }
   ],
   "source": [
    "fruits.pop() # removes value at index -1 when index is not specified\n",
    "print(fruits)"
   ]
  },
  {
   "cell_type": "code",
   "execution_count": 29,
   "id": "00229d87",
   "metadata": {},
   "outputs": [],
   "source": [
    "fruits.insert(1,'cherry')\n",
    "fruits.append('pineapple')"
   ]
  },
  {
   "cell_type": "code",
   "execution_count": 30,
   "id": "c67fd566",
   "metadata": {},
   "outputs": [
    {
     "data": {
      "text/plain": [
       "['apple', 'cherry', 'cherry', 'pineapple']"
      ]
     },
     "execution_count": 30,
     "metadata": {},
     "output_type": "execute_result"
    }
   ],
   "source": [
    "fruits"
   ]
  },
  {
   "cell_type": "code",
   "execution_count": 35,
   "id": "384929d3",
   "metadata": {},
   "outputs": [],
   "source": [
    "# In \"pop\" we have to give index number which we want ot remove\n",
    "# In \"remove\" we have to provide the value that we want to remove\n",
    "# In \"del\" we delete the value from a particular index, if we do not provide any index it will delete the entire list\n",
    "# \"del\" is a keyword where \"pop\" & \"remove\" are methods"
   ]
  },
  {
   "cell_type": "code",
   "execution_count": 32,
   "id": "02e94276",
   "metadata": {},
   "outputs": [
    {
     "name": "stdout",
     "output_type": "stream",
     "text": [
      "['apple', 'cherry', 'pineapple']\n"
     ]
    }
   ],
   "source": [
    "del fruits[1]\n",
    "print(fruits)"
   ]
  },
  {
   "cell_type": "code",
   "execution_count": 33,
   "id": "7953ac4d",
   "metadata": {},
   "outputs": [],
   "source": [
    "del fruits"
   ]
  },
  {
   "cell_type": "code",
   "execution_count": 34,
   "id": "55ccbc8d",
   "metadata": {},
   "outputs": [
    {
     "ename": "NameError",
     "evalue": "name 'fruits' is not defined",
     "output_type": "error",
     "traceback": [
      "\u001b[1;31m---------------------------------------------------------------------------\u001b[0m",
      "\u001b[1;31mNameError\u001b[0m                                 Traceback (most recent call last)",
      "Cell \u001b[1;32mIn[34], line 1\u001b[0m\n\u001b[1;32m----> 1\u001b[0m \u001b[38;5;28mprint\u001b[39m(fruits)\n",
      "\u001b[1;31mNameError\u001b[0m: name 'fruits' is not defined"
     ]
    }
   ],
   "source": [
    "print(fruits)"
   ]
  },
  {
   "cell_type": "code",
   "execution_count": 38,
   "id": "84a6318a",
   "metadata": {},
   "outputs": [],
   "source": [
    "l4 = ['apple', 'banana', 'cherry', \"chikoo\", \"litchi\"]"
   ]
  },
  {
   "cell_type": "code",
   "execution_count": 39,
   "id": "b92065eb",
   "metadata": {},
   "outputs": [
    {
     "data": {
      "text/plain": [
       "['litchi', 'chikoo', 'cherry', 'banana', 'apple']"
      ]
     },
     "execution_count": 39,
     "metadata": {},
     "output_type": "execute_result"
    }
   ],
   "source": [
    "l4[::-1] # reverse the string"
   ]
  },
  {
   "cell_type": "code",
   "execution_count": 40,
   "id": "b9863dae",
   "metadata": {},
   "outputs": [
    {
     "data": {
      "text/plain": [
       "['banana', 'chikoo']"
      ]
     },
     "execution_count": 40,
     "metadata": {},
     "output_type": "execute_result"
    }
   ],
   "source": [
    "l4[1::2]"
   ]
  },
  {
   "cell_type": "code",
   "execution_count": null,
   "id": "ab6dde89",
   "metadata": {},
   "outputs": [
    {
     "data": {
      "text/plain": [
       "['apple', 'banana', 'cherry']"
      ]
     },
     "execution_count": 41,
     "metadata": {},
     "output_type": "execute_result"
    }
   ],
   "source": [
    "l4[:3] # 3rd index in NOT included"
   ]
  },
  {
   "cell_type": "code",
   "execution_count": 42,
   "id": "c8ea6c14",
   "metadata": {},
   "outputs": [],
   "source": [
    "my_num = [1,5,2, 4,3] "
   ]
  },
  {
   "cell_type": "code",
   "execution_count": 43,
   "id": "fe295459",
   "metadata": {},
   "outputs": [],
   "source": [
    "my_num.sort()"
   ]
  },
  {
   "cell_type": "code",
   "execution_count": 44,
   "id": "fdad409b",
   "metadata": {},
   "outputs": [
    {
     "data": {
      "text/plain": [
       "[1, 2, 3, 4, 5]"
      ]
     },
     "execution_count": 44,
     "metadata": {},
     "output_type": "execute_result"
    }
   ],
   "source": [
    "my_num"
   ]
  },
  {
   "cell_type": "code",
   "execution_count": 45,
   "id": "3b53098d",
   "metadata": {},
   "outputs": [],
   "source": [
    "my_num.sort(reverse=True)"
   ]
  },
  {
   "cell_type": "code",
   "execution_count": 46,
   "id": "ddda34bc",
   "metadata": {},
   "outputs": [
    {
     "data": {
      "text/plain": [
       "[5, 4, 3, 2, 1]"
      ]
     },
     "execution_count": 46,
     "metadata": {},
     "output_type": "execute_result"
    }
   ],
   "source": [
    "my_num"
   ]
  },
  {
   "cell_type": "code",
   "execution_count": null,
   "id": "b84f4a04",
   "metadata": {},
   "outputs": [],
   "source": []
  }
 ],
 "metadata": {
  "kernelspec": {
   "display_name": "base",
   "language": "python",
   "name": "python3"
  },
  "language_info": {
   "codemirror_mode": {
    "name": "ipython",
    "version": 3
   },
   "file_extension": ".py",
   "mimetype": "text/x-python",
   "name": "python",
   "nbconvert_exporter": "python",
   "pygments_lexer": "ipython3",
   "version": "3.12.7"
  }
 },
 "nbformat": 4,
 "nbformat_minor": 5
}
