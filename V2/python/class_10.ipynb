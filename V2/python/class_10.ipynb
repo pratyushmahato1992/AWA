{
 "cells": [
  {
   "cell_type": "markdown",
   "id": "d688cff2",
   "metadata": {},
   "source": [
    "# Sets\n",
    "## Set is unordered collection of unique elements. Sets are mutable"
   ]
  },
  {
   "cell_type": "code",
   "execution_count": 1,
   "id": "b7d237fe",
   "metadata": {},
   "outputs": [
    {
     "name": "stdout",
     "output_type": "stream",
     "text": [
      "{'b', 1, 2, 3, 4, 12, 45, 'd', 'c', 'a', 123}\n"
     ]
    }
   ],
   "source": [
    "set1 = {1,2,3,4,2,1,12,123,45,'a', 'b', True, 'c', 'd', 'b', True}\n",
    "print(set1)"
   ]
  },
  {
   "cell_type": "code",
   "execution_count": 2,
   "id": "4edbb1a4",
   "metadata": {},
   "outputs": [],
   "source": [
    "# sets do not support indexing & slicing operations as it is unordered collection of elements"
   ]
  },
  {
   "cell_type": "code",
   "execution_count": 3,
   "id": "42dcea06",
   "metadata": {},
   "outputs": [
    {
     "name": "stdout",
     "output_type": "stream",
     "text": [
      "{'b', 1, 3, 4, 12, 45, 'd', 'c', 'a', 123}\n"
     ]
    }
   ],
   "source": [
    "set1.remove(2)\n",
    "print(set1)"
   ]
  },
  {
   "cell_type": "code",
   "execution_count": 4,
   "id": "6875a7bd",
   "metadata": {},
   "outputs": [
    {
     "ename": "KeyError",
     "evalue": "456",
     "output_type": "error",
     "traceback": [
      "\u001b[1;31m---------------------------------------------------------------------------\u001b[0m",
      "\u001b[1;31mKeyError\u001b[0m                                  Traceback (most recent call last)",
      "Cell \u001b[1;32mIn[4], line 1\u001b[0m\n\u001b[1;32m----> 1\u001b[0m set1\u001b[38;5;241m.\u001b[39mremove(\u001b[38;5;241m456\u001b[39m)\n",
      "\u001b[1;31mKeyError\u001b[0m: 456"
     ]
    }
   ],
   "source": [
    "set1.remove(456) # we are getting error as this value is not present in the set"
   ]
  },
  {
   "cell_type": "code",
   "execution_count": 5,
   "id": "d8c88f7e",
   "metadata": {},
   "outputs": [],
   "source": [
    "set1.discard(456) # we are not getting error even if the element is not present in the set"
   ]
  },
  {
   "cell_type": "code",
   "execution_count": 6,
   "id": "2a61cd81",
   "metadata": {},
   "outputs": [
    {
     "data": {
      "text/plain": [
       "{1, 12, 123, 3, 4, 45, 'a', 'b', 'c', 'd'}"
      ]
     },
     "execution_count": 6,
     "metadata": {},
     "output_type": "execute_result"
    }
   ],
   "source": [
    "set1"
   ]
  },
  {
   "cell_type": "code",
   "execution_count": 7,
   "id": "9c8958d3",
   "metadata": {},
   "outputs": [
    {
     "name": "stdout",
     "output_type": "stream",
     "text": [
      "{'b', 1, 3, 4, 12, 45, 'd', 'c', 789, 'a', 123}\n"
     ]
    }
   ],
   "source": [
    "set1.add(789)\n",
    "print(set1)"
   ]
  },
  {
   "cell_type": "code",
   "execution_count": 8,
   "id": "12315f5c",
   "metadata": {},
   "outputs": [],
   "source": [
    "set1 = {1,2,3,4,5,6}\n",
    "set2 = {5,6,7,8,9}"
   ]
  },
  {
   "cell_type": "code",
   "execution_count": 9,
   "id": "a49f2fa4",
   "metadata": {},
   "outputs": [
    {
     "name": "stdout",
     "output_type": "stream",
     "text": [
      "{1, 2, 3, 4, 5, 6, 7, 8, 9}\n"
     ]
    }
   ],
   "source": [
    "# Union method\n",
    "print(set1 | set2)"
   ]
  },
  {
   "cell_type": "code",
   "execution_count": 10,
   "id": "3ae908b3",
   "metadata": {},
   "outputs": [
    {
     "name": "stdout",
     "output_type": "stream",
     "text": [
      "{5, 6}\n"
     ]
    }
   ],
   "source": [
    "# Intersection method\n",
    "print(set1 & set2)"
   ]
  },
  {
   "cell_type": "code",
   "execution_count": 11,
   "id": "ba4ebda7",
   "metadata": {},
   "outputs": [
    {
     "name": "stdout",
     "output_type": "stream",
     "text": [
      "{1, 2, 3, 4}\n"
     ]
    }
   ],
   "source": [
    "# Difference\n",
    "print(set1 - set2)"
   ]
  },
  {
   "cell_type": "code",
   "execution_count": 12,
   "id": "9fedc98c",
   "metadata": {},
   "outputs": [
    {
     "name": "stdout",
     "output_type": "stream",
     "text": [
      "{1, 2, 3, 4, 7, 8, 9}\n"
     ]
    }
   ],
   "source": [
    "# Symmetric difference: elements in either set but not in both\n",
    "print(set1 ^ set2)"
   ]
  },
  {
   "cell_type": "code",
   "execution_count": 13,
   "id": "341a6d96",
   "metadata": {},
   "outputs": [
    {
     "ename": "TypeError",
     "evalue": "unsupported operand type(s) for +: 'set' and 'set'",
     "output_type": "error",
     "traceback": [
      "\u001b[1;31m---------------------------------------------------------------------------\u001b[0m",
      "\u001b[1;31mTypeError\u001b[0m                                 Traceback (most recent call last)",
      "Cell \u001b[1;32mIn[13], line 1\u001b[0m\n\u001b[1;32m----> 1\u001b[0m set1 \u001b[38;5;241m+\u001b[39m set2\n",
      "\u001b[1;31mTypeError\u001b[0m: unsupported operand type(s) for +: 'set' and 'set'"
     ]
    }
   ],
   "source": [
    "set1 + set2"
   ]
  },
  {
   "cell_type": "code",
   "execution_count": 14,
   "id": "50e05aa4",
   "metadata": {},
   "outputs": [
    {
     "name": "stdout",
     "output_type": "stream",
     "text": [
      "{1, 2, 3, 4, 5, 6}\n",
      "{123456, 1, 2, 3, 4, 5, 6, 'qwerty', 'abcde'}\n"
     ]
    }
   ],
   "source": [
    "print(set1)\n",
    "set1.update(['abcde', 'qwerty', 123456])\n",
    "print(set1)"
   ]
  },
  {
   "cell_type": "code",
   "execution_count": 15,
   "id": "f61d3316",
   "metadata": {},
   "outputs": [
    {
     "data": {
      "text/plain": [
       "{1, 123456, 2, 3, 4, 5, 6, 'abcde', 'qwerty'}"
      ]
     },
     "execution_count": 15,
     "metadata": {},
     "output_type": "execute_result"
    }
   ],
   "source": [
    "set1"
   ]
  },
  {
   "cell_type": "code",
   "execution_count": 16,
   "id": "c7f9726f",
   "metadata": {},
   "outputs": [
    {
     "name": "stdout",
     "output_type": "stream",
     "text": [
      "{5, 6, 7, 8, 9}\n",
      "set()\n"
     ]
    }
   ],
   "source": [
    "print(set2)\n",
    "set2.clear() # removes all elements from the set\n",
    "print(set2)"
   ]
  },
  {
   "cell_type": "code",
   "execution_count": 2,
   "id": "3cc80b9c",
   "metadata": {},
   "outputs": [
    {
     "data": {
      "text/plain": [
       "{'!@#',\n",
       " '##',\n",
       " -1,\n",
       " -1234,\n",
       " -231,\n",
       " 0,\n",
       " 1,\n",
       " 2,\n",
       " 234,\n",
       " 2342,\n",
       " 23456,\n",
       " 3,\n",
       " 4,\n",
       " 5,\n",
       " 56,\n",
       " 7,\n",
       " '@',\n",
       " 'abc',\n",
       " 'anand',\n",
       " 'prachi',\n",
       " 'vaibhav'}"
      ]
     },
     "execution_count": 2,
     "metadata": {},
     "output_type": "execute_result"
    }
   ],
   "source": [
    "set_4 = {'@', '##', 0, 1,2,234,23456,3,4,7,5,56,2342,\"abc\", 'prachi', 'anand', 'vaibhav', '!@#', -1, -1234, -231}\n",
    "set_4 # set is unordered collection, the ordering is based on ASCII values"
   ]
  },
  {
   "cell_type": "code",
   "execution_count": null,
   "id": "8653d00d",
   "metadata": {},
   "outputs": [],
   "source": []
  },
  {
   "cell_type": "code",
   "execution_count": null,
   "id": "fca91425",
   "metadata": {},
   "outputs": [],
   "source": []
  },
  {
   "cell_type": "code",
   "execution_count": null,
   "id": "3465e69a",
   "metadata": {},
   "outputs": [],
   "source": []
  }
 ],
 "metadata": {
  "kernelspec": {
   "display_name": "base",
   "language": "python",
   "name": "python3"
  },
  "language_info": {
   "codemirror_mode": {
    "name": "ipython",
    "version": 3
   },
   "file_extension": ".py",
   "mimetype": "text/x-python",
   "name": "python",
   "nbconvert_exporter": "python",
   "pygments_lexer": "ipython3",
   "version": "3.12.7"
  }
 },
 "nbformat": 4,
 "nbformat_minor": 5
}
