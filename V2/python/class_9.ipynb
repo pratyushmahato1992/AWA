{
 "cells": [
  {
   "cell_type": "markdown",
   "id": "c7a2f998",
   "metadata": {},
   "source": [
    "# Removing element from a list\n",
    "## 1) .remove method\n",
    "## 2) .pop method\n",
    "## 3) del keyword"
   ]
  },
  {
   "cell_type": "code",
   "execution_count": 1,
   "id": "4b60aabf",
   "metadata": {},
   "outputs": [
    {
     "name": "stdout",
     "output_type": "stream",
     "text": [
      "[1, 23, 45, 78, 90, 45, 87]\n"
     ]
    }
   ],
   "source": [
    "l1 = [1, 23, 45, 78, 90, 45, 87]\n",
    "print(l1)"
   ]
  },
  {
   "cell_type": "code",
   "execution_count": 2,
   "id": "3841c366",
   "metadata": {},
   "outputs": [
    {
     "name": "stdout",
     "output_type": "stream",
     "text": [
      "[1, 45, 90, 45, 87]\n"
     ]
    }
   ],
   "source": [
    "# remove 23 & 78\n",
    "del l1[1:4:2]\n",
    "print(l1)\n"
   ]
  },
  {
   "cell_type": "code",
   "execution_count": 3,
   "id": "344a4a25",
   "metadata": {},
   "outputs": [
    {
     "data": {
      "text/plain": [
       "[1, 45, 90, 45, 87]"
      ]
     },
     "execution_count": 3,
     "metadata": {},
     "output_type": "execute_result"
    }
   ],
   "source": [
    "l1"
   ]
  },
  {
   "cell_type": "code",
   "execution_count": 4,
   "id": "83c4278d",
   "metadata": {},
   "outputs": [
    {
     "name": "stdout",
     "output_type": "stream",
     "text": [
      "'abcd' is not a palindrome string!\n"
     ]
    }
   ],
   "source": [
    "# palindrome\n",
    "my_str = input('enter a string: ')\n",
    "if my_str == my_str[::-1]:\n",
    "    print(f'{my_str} is a palindrome string!')\n",
    "else:\n",
    "    print(f'{my_str} is not a palindrome string!')"
   ]
  },
  {
   "cell_type": "code",
   "execution_count": 5,
   "id": "aa458804",
   "metadata": {},
   "outputs": [
    {
     "data": {
      "text/plain": [
       "[5, 4, 3, 2, 1]"
      ]
     },
     "execution_count": 5,
     "metadata": {},
     "output_type": "execute_result"
    }
   ],
   "source": [
    "my_numbers = [1,4,2,5,3]\n",
    "my_numbers.sort(reverse=True)\n",
    "my_numbers"
   ]
  },
  {
   "cell_type": "code",
   "execution_count": 6,
   "id": "9136f660",
   "metadata": {},
   "outputs": [
    {
     "data": {
      "text/plain": [
       "[5, 4, 3, 2, 1]"
      ]
     },
     "execution_count": 6,
     "metadata": {},
     "output_type": "execute_result"
    }
   ],
   "source": [
    "my_numbers"
   ]
  },
  {
   "cell_type": "code",
   "execution_count": 7,
   "id": "5241ae8d",
   "metadata": {},
   "outputs": [
    {
     "name": "stdout",
     "output_type": "stream",
     "text": [
      "5\n",
      "4\n",
      "3\n",
      "2\n",
      "1\n",
      "[5, 4, 3, 2, 1]\n"
     ]
    }
   ],
   "source": [
    "# sort a list without using inbuilt sort function\n",
    "\n",
    "my_numbers = [1,4,2,5,3]\n",
    "a = []\n",
    "\n",
    "for i in range(len(my_numbers)):\n",
    "    # x = min(my_numbers)\n",
    "    x = max(my_numbers)\n",
    "    print(x)\n",
    "    a.append(x)\n",
    "    my_numbers.remove(x)\n",
    "\n",
    "print(a)\n"
   ]
  },
  {
   "cell_type": "code",
   "execution_count": 8,
   "id": "e6bf53b9",
   "metadata": {},
   "outputs": [
    {
     "data": {
      "text/plain": [
       "1"
      ]
     },
     "execution_count": 8,
     "metadata": {},
     "output_type": "execute_result"
    }
   ],
   "source": [
    "# .index() method: returns the index of first occurance of value\n",
    "fruit = ['apple', 'banana', 'cherry', 'banana']\n",
    "fruit.index('banana')"
   ]
  },
  {
   "cell_type": "code",
   "execution_count": 10,
   "id": "4b583de3",
   "metadata": {},
   "outputs": [
    {
     "data": {
      "text/plain": [
       "3"
      ]
     },
     "execution_count": 10,
     "metadata": {},
     "output_type": "execute_result"
    }
   ],
   "source": [
    "# .count() method: returns the number of times a specified value occurs in the list\n",
    "my_numbers1 = [1,2,3,4,2,2,6]\n",
    "my_numbers1.count(2)"
   ]
  },
  {
   "cell_type": "code",
   "execution_count": null,
   "id": "37ecd230",
   "metadata": {},
   "outputs": [],
   "source": [
    "# .clear() method: removes all values from the list"
   ]
  },
  {
   "cell_type": "code",
   "execution_count": 13,
   "id": "c9d78e40",
   "metadata": {},
   "outputs": [],
   "source": [
    "fruit1 = ['apple', 'banana', 'cherry', 'banana']"
   ]
  },
  {
   "cell_type": "code",
   "execution_count": 12,
   "id": "332ef972",
   "metadata": {},
   "outputs": [
    {
     "name": "stdout",
     "output_type": "stream",
     "text": [
      "[]\n"
     ]
    }
   ],
   "source": [
    "fruit1.clear()\n",
    "print(fruit1)"
   ]
  },
  {
   "cell_type": "code",
   "execution_count": 14,
   "id": "dab707cb",
   "metadata": {},
   "outputs": [
    {
     "name": "stdout",
     "output_type": "stream",
     "text": [
      "['apple', 'banana', 'cherry', 'banana']\n"
     ]
    }
   ],
   "source": [
    "print(fruit1)"
   ]
  },
  {
   "cell_type": "code",
   "execution_count": 15,
   "id": "c6594281",
   "metadata": {},
   "outputs": [
    {
     "ename": "NameError",
     "evalue": "name 'fruit1' is not defined",
     "output_type": "error",
     "traceback": [
      "\u001b[1;31m---------------------------------------------------------------------------\u001b[0m",
      "\u001b[1;31mNameError\u001b[0m                                 Traceback (most recent call last)",
      "Cell \u001b[1;32mIn[15], line 2\u001b[0m\n\u001b[0;32m      1\u001b[0m \u001b[38;5;28;01mdel\u001b[39;00m fruit1\n\u001b[1;32m----> 2\u001b[0m \u001b[38;5;28mprint\u001b[39m(fruit1)\n",
      "\u001b[1;31mNameError\u001b[0m: name 'fruit1' is not defined"
     ]
    }
   ],
   "source": [
    "del fruit1\n",
    "print(fruit1)"
   ]
  },
  {
   "cell_type": "code",
   "execution_count": 17,
   "id": "4ce3149c",
   "metadata": {},
   "outputs": [],
   "source": [
    "l2 = [1,2,4,5,8,1,2,4,5,['a', 'pratyush', 'Mahato']]"
   ]
  },
  {
   "cell_type": "code",
   "execution_count": 18,
   "id": "a486b9c1",
   "metadata": {},
   "outputs": [
    {
     "data": {
      "text/plain": [
       "'pratyush'"
      ]
     },
     "execution_count": 18,
     "metadata": {},
     "output_type": "execute_result"
    }
   ],
   "source": [
    "l2[-1][1]"
   ]
  },
  {
   "cell_type": "code",
   "execution_count": 19,
   "id": "bbf979cd",
   "metadata": {},
   "outputs": [],
   "source": [
    "l2 = [1,2,4,5,8,1,2,4,5,['a', 'pratyush', 'Mahato',['incubit', 90, True]]]"
   ]
  },
  {
   "cell_type": "code",
   "execution_count": 20,
   "id": "1650a14b",
   "metadata": {},
   "outputs": [
    {
     "data": {
      "text/plain": [
       "90"
      ]
     },
     "execution_count": 20,
     "metadata": {},
     "output_type": "execute_result"
    }
   ],
   "source": [
    "l2[-1][-1][1]"
   ]
  },
  {
   "cell_type": "code",
   "execution_count": null,
   "id": "c47477c1",
   "metadata": {},
   "outputs": [],
   "source": [
    "# remove 90 from the list\n",
    "l2[-1][-1].remove(90)"
   ]
  },
  {
   "cell_type": "code",
   "execution_count": 23,
   "id": "af364ae8",
   "metadata": {},
   "outputs": [
    {
     "data": {
      "text/plain": [
       "[1, 2, 4, 5, 8, 1, 2, 4, 5, ['a', 'pratyush', 'Mahato', ['incubit', True]]]"
      ]
     },
     "execution_count": 23,
     "metadata": {},
     "output_type": "execute_result"
    }
   ],
   "source": [
    "l2"
   ]
  },
  {
   "cell_type": "markdown",
   "id": "eea54000",
   "metadata": {},
   "source": [
    "# Tuples: ordered & immutable"
   ]
  },
  {
   "cell_type": "code",
   "execution_count": 27,
   "id": "85a1678a",
   "metadata": {},
   "outputs": [
    {
     "name": "stdout",
     "output_type": "stream",
     "text": [
      "<class 'tuple'>\n"
     ]
    }
   ],
   "source": [
    "tup1 = (1,2, 'pratyush', 3.5, True, 2+5j, ('x','y','z'), [9.7,8,5])\n",
    "print(type(tup1))"
   ]
  },
  {
   "cell_type": "code",
   "execution_count": 28,
   "id": "d21ed9a6",
   "metadata": {},
   "outputs": [
    {
     "data": {
      "text/plain": [
       "(2, 3.5, (2+5j), [9.7, 8, 5])"
      ]
     },
     "execution_count": 28,
     "metadata": {},
     "output_type": "execute_result"
    }
   ],
   "source": [
    "tup1[1::2]"
   ]
  },
  {
   "cell_type": "code",
   "execution_count": 29,
   "id": "c5f190fb",
   "metadata": {},
   "outputs": [
    {
     "name": "stdout",
     "output_type": "stream",
     "text": [
      "[1, 2, 'pratyush', 3.5, True, (2+5j), ('x', 'y', 'z'), [9.7, 8, 5]] <class 'list'>\n"
     ]
    }
   ],
   "source": [
    "tup_list = list(tup1)\n",
    "print(tup_list, type(tup_list))"
   ]
  },
  {
   "cell_type": "code",
   "execution_count": null,
   "id": "fe2db5d2",
   "metadata": {},
   "outputs": [
    {
     "name": "stdout",
     "output_type": "stream",
     "text": [
      "(1, 2, 3, 4)\n"
     ]
    }
   ],
   "source": [
    "# tuple concatenation\n",
    "tup1 = (1,2)\n",
    "tup2 = (3,4)\n",
    "\n",
    "Result = tup1 + tup2\n",
    "print(Result)\n",
    "\n",
    "# strings are also immutable, but we can concat 2 or more strings."
   ]
  },
  {
   "cell_type": "code",
   "execution_count": 31,
   "id": "0d5b6088",
   "metadata": {},
   "outputs": [
    {
     "data": {
      "text/plain": [
       "(1, 2, 1, 2, 1, 2)"
      ]
     },
     "execution_count": 31,
     "metadata": {},
     "output_type": "execute_result"
    }
   ],
   "source": [
    "# tuple multiplication\n",
    "tup1*3\n"
   ]
  },
  {
   "cell_type": "code",
   "execution_count": 32,
   "id": "6172d87f",
   "metadata": {},
   "outputs": [
    {
     "name": "stdout",
     "output_type": "stream",
     "text": [
      "3\n",
      "1\n"
     ]
    }
   ],
   "source": [
    "tup2 = (1,2,3,2,4,6,8,2)\n",
    "print(tup2.count(2))\n",
    "print(tup2.index(2))"
   ]
  },
  {
   "cell_type": "code",
   "execution_count": null,
   "id": "2091c9af",
   "metadata": {},
   "outputs": [],
   "source": []
  },
  {
   "cell_type": "code",
   "execution_count": null,
   "id": "e0fd23f0",
   "metadata": {},
   "outputs": [],
   "source": []
  },
  {
   "cell_type": "code",
   "execution_count": null,
   "id": "5c9c4a7b",
   "metadata": {},
   "outputs": [],
   "source": []
  },
  {
   "cell_type": "code",
   "execution_count": null,
   "id": "1b4f2f01",
   "metadata": {},
   "outputs": [],
   "source": []
  },
  {
   "cell_type": "code",
   "execution_count": null,
   "id": "634a82f7",
   "metadata": {},
   "outputs": [],
   "source": []
  },
  {
   "cell_type": "code",
   "execution_count": null,
   "id": "3a7ab058",
   "metadata": {},
   "outputs": [],
   "source": []
  },
  {
   "cell_type": "code",
   "execution_count": null,
   "id": "b8752c01",
   "metadata": {},
   "outputs": [],
   "source": []
  },
  {
   "cell_type": "code",
   "execution_count": null,
   "id": "3073959f",
   "metadata": {},
   "outputs": [],
   "source": []
  }
 ],
 "metadata": {
  "kernelspec": {
   "display_name": "base",
   "language": "python",
   "name": "python3"
  },
  "language_info": {
   "codemirror_mode": {
    "name": "ipython",
    "version": 3
   },
   "file_extension": ".py",
   "mimetype": "text/x-python",
   "name": "python",
   "nbconvert_exporter": "python",
   "pygments_lexer": "ipython3",
   "version": "3.12.7"
  }
 },
 "nbformat": 4,
 "nbformat_minor": 5
}
