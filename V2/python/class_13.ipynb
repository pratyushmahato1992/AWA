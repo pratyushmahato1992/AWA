{
 "cells": [
  {
   "cell_type": "code",
   "execution_count": 1,
   "id": "2ec31a9d",
   "metadata": {},
   "outputs": [
    {
     "name": "stdout",
     "output_type": "stream",
     "text": [
      "0\n",
      "1\n",
      "2\n",
      "3\n",
      "4\n"
     ]
    }
   ],
   "source": [
    "for i in range(5):\n",
    "    print(i)\n"
   ]
  },
  {
   "cell_type": "code",
   "execution_count": 2,
   "id": "84d157b7",
   "metadata": {},
   "outputs": [
    {
     "name": "stdout",
     "output_type": "stream",
     "text": [
      "1\n",
      "2\n",
      "3\n",
      "4\n"
     ]
    }
   ],
   "source": [
    "for i in range(1,5):\n",
    "    print(i)\n"
   ]
  },
  {
   "cell_type": "code",
   "execution_count": 3,
   "id": "504c2a91",
   "metadata": {},
   "outputs": [
    {
     "name": "stdout",
     "output_type": "stream",
     "text": [
      "*\n",
      "**\n",
      "***\n",
      "****\n",
      "*****\n"
     ]
    }
   ],
   "source": [
    "for i in range(1,6):\n",
    "    for j in range(i): \n",
    "        print(\"*\", end=\"\")\n",
    "    print(\"\")"
   ]
  },
  {
   "cell_type": "code",
   "execution_count": 4,
   "id": "0ef59a06",
   "metadata": {},
   "outputs": [
    {
     "name": "stdout",
     "output_type": "stream",
     "text": [
      "*\n",
      "**\n",
      "***\n",
      "****\n",
      "*****\n"
     ]
    }
   ],
   "source": [
    "for i in range(1,6):\n",
    "    print(i* \"*\")"
   ]
  },
  {
   "cell_type": "code",
   "execution_count": 5,
   "id": "cf584a3f",
   "metadata": {},
   "outputs": [
    {
     "name": "stdout",
     "output_type": "stream",
     "text": [
      "The input number is 6.\n",
      "\n",
      "******\n",
      "*****\n",
      "****\n",
      "***\n",
      "**\n",
      "*\n"
     ]
    }
   ],
   "source": [
    "num = int(input(\"enter a number: \"))\n",
    "print(f\"The input number is {num}.\")\n",
    "print(\"\")\n",
    "for i in range(num,0,-1):\n",
    "    print(i* \"*\")"
   ]
  },
  {
   "cell_type": "code",
   "execution_count": 6,
   "id": "1c990d03",
   "metadata": {},
   "outputs": [
    {
     "name": "stdout",
     "output_type": "stream",
     "text": [
      "The input number is 6.\n",
      "\n",
      "******\n",
      "*****\n",
      "****\n",
      "***\n",
      "**\n",
      "*\n"
     ]
    }
   ],
   "source": [
    "num = int(input(\"enter a number: \"))\n",
    "print(f\"The input number is {num}.\")\n",
    "print(\"\")\n",
    "for i in range(num):\n",
    "    print((num-i)* \"*\")"
   ]
  },
  {
   "cell_type": "code",
   "execution_count": 7,
   "id": "fa27db4a",
   "metadata": {},
   "outputs": [
    {
     "name": "stdout",
     "output_type": "stream",
     "text": [
      "The input number is 6.\n",
      "\n",
      "       \n",
      "       *\n",
      "      * *\n",
      "     * * *\n",
      "    * * * *\n",
      "   * * * * *\n"
     ]
    }
   ],
   "source": [
    "num = 6\n",
    "print(f\"The input number is {num}.\")\n",
    "print(\"\")\n",
    "for i in range(num):\n",
    "    print((num-i)* \" \", \" *\"*(i))\n",
    "    "
   ]
  },
  {
   "cell_type": "code",
   "execution_count": 8,
   "id": "cc89f487",
   "metadata": {},
   "outputs": [
    {
     "name": "stdout",
     "output_type": "stream",
     "text": [
      "     *\n",
      "    ***\n",
      "   *****\n",
      "  *******\n",
      " *********\n",
      "***********\n"
     ]
    }
   ],
   "source": [
    "num = 6\n",
    "for i in range(1,num+1):\n",
    "    print((num-i)* \" \" + \"*\" * (2*i-1))\n",
    "    "
   ]
  },
  {
   "cell_type": "code",
   "execution_count": 9,
   "id": "309d4f5b",
   "metadata": {},
   "outputs": [
    {
     "name": "stdout",
     "output_type": "stream",
     "text": [
      "* * * * * * \n",
      " * * * * * \n",
      "  * * * * \n",
      "   * * * \n",
      "    * * \n",
      "     * \n"
     ]
    }
   ],
   "source": [
    "num = 6\n",
    "for i in range(num):\n",
    "    print(\" \"*i + \"* \"*(num-i))"
   ]
  },
  {
   "cell_type": "code",
   "execution_count": 10,
   "id": "1a235b78",
   "metadata": {},
   "outputs": [
    {
     "name": "stdout",
     "output_type": "stream",
     "text": [
      "***********\n",
      " *********\n",
      "  *******\n",
      "   *****\n",
      "    ***\n",
      "     *\n"
     ]
    }
   ],
   "source": [
    "num = 6\n",
    "for i in range(num,0,-1):\n",
    "    print((num-i)* \" \" + \"*\" * (2*i-1))"
   ]
  },
  {
   "cell_type": "code",
   "execution_count": 11,
   "id": "053b0455",
   "metadata": {},
   "outputs": [
    {
     "name": "stdout",
     "output_type": "stream",
     "text": [
      "    *\n",
      "   ***\n",
      "  *****\n",
      " *******\n",
      "*********\n",
      " *******\n",
      "  *****\n",
      "   ***\n",
      "    *\n"
     ]
    }
   ],
   "source": [
    "num = 5\n",
    "for i in range(1,num+1):\n",
    "    print((num-i)* \" \" + \"*\" * (2*i-1))\n",
    "for i in range(num-1,0,-1):\n",
    "    print((num-i)* \" \" + \"*\" * (2*i-1))"
   ]
  },
  {
   "cell_type": "code",
   "execution_count": 122,
   "id": "a675b65d",
   "metadata": {},
   "outputs": [
    {
     "name": "stdout",
     "output_type": "stream",
     "text": [
      "     **\n",
      "    * *\n",
      "   *   *\n",
      "  *     *\n",
      " *       *\n",
      " *       *\n",
      "  *     *\n",
      "   *   *\n",
      "    * *\n",
      "     **\n"
     ]
    }
   ],
   "source": [
    "num = 5\n",
    "for i in range(num):\n",
    "    print((num-i)* \" \" + \"*\"  + \" \"* (2*i-1) + \"*\")\n",
    "for i in range(num-1,-1,-1):\n",
    "    print((num-i)* \" \" + \"*\" + \" \" * (2*i-1) + \"*\")"
   ]
  },
  {
   "cell_type": "code",
   "execution_count": 29,
   "id": "bac214e6",
   "metadata": {},
   "outputs": [
    {
     "name": "stdout",
     "output_type": "stream",
     "text": [
      "    1\n",
      "   121\n",
      "  12321\n",
      " 1234321\n",
      "123454321\n"
     ]
    }
   ],
   "source": [
    "num = 5\n",
    "for i in range(1, num+1):\n",
    "    print(\" \"*(num-i), end=\"\")\n",
    "    for j in range(1, i+1):\n",
    "        print(j, end=\"\")\n",
    "    for j in range(i-1,0,-1):\n",
    "        print(j, end=\"\")\n",
    "    print(\"\")"
   ]
  },
  {
   "cell_type": "code",
   "execution_count": 68,
   "id": "af48120c",
   "metadata": {},
   "outputs": [
    {
     "name": "stdout",
     "output_type": "stream",
     "text": [
      "1 2 3 4 5 6 7 8 9 10 11 12 13 14 15 "
     ]
    }
   ],
   "source": [
    "for i in range(1,16):\n",
    "    print(i, end=\" \")"
   ]
  },
  {
   "cell_type": "code",
   "execution_count": 78,
   "id": "67425882",
   "metadata": {},
   "outputs": [
    {
     "name": "stdout",
     "output_type": "stream",
     "text": [
      "\n",
      "1\n",
      "12\n",
      "123\n",
      "1234\n",
      "12345\n"
     ]
    }
   ],
   "source": [
    "num = 5\n",
    "for i in range(1,num+2):\n",
    "    for j in range(1,i):\n",
    "        print(j, end = \"\")\n",
    "    print(\"\")"
   ]
  },
  {
   "cell_type": "code",
   "execution_count": null,
   "id": "563ea94d",
   "metadata": {},
   "outputs": [
    {
     "name": "stdout",
     "output_type": "stream",
     "text": [
      "12345\n",
      "1234\n",
      "123\n",
      "12\n",
      "1\n"
     ]
    }
   ],
   "source": [
    "num= 5\n",
    "for i in range(num+1,1,-1):\n",
    "    for j in range(1,i):\n",
    "        print(j, end = \"\")\n",
    "    print(\"\", end=\"\\n\")"
   ]
  },
  {
   "cell_type": "code",
   "execution_count": 90,
   "id": "1fa62443",
   "metadata": {},
   "outputs": [
    {
     "name": "stdout",
     "output_type": "stream",
     "text": [
      " 1 12 123 1234 12345 "
     ]
    }
   ],
   "source": [
    "num = 5\n",
    "for i in range(1,num+2):\n",
    "    for j in range(1,i):\n",
    "        print(j, end = \"\")\n",
    "    print(\"\", end= \" \")"
   ]
  },
  {
   "cell_type": "code",
   "execution_count": 120,
   "id": "561f8d39",
   "metadata": {},
   "outputs": [
    {
     "name": "stdout",
     "output_type": "stream",
     "text": [
      "12345 1234 123 12 1 "
     ]
    }
   ],
   "source": [
    "for i in range(6,1,-1):\n",
    "    for j in range(1,i):\n",
    "        print(j, end=\"\")\n",
    "    print(\" \", end=\"\")"
   ]
  },
  {
   "cell_type": "markdown",
   "id": "c260b937",
   "metadata": {},
   "source": [
    "# print this pattern\n",
    "\n",
    "1\n",
    "\n",
    "2 3\n",
    "\n",
    "4 5 6\n",
    "\n",
    "7 8 9 10\n",
    "\n",
    "11 12 13 14 15"
   ]
  },
  {
   "cell_type": "code",
   "execution_count": 127,
   "id": "2a73ce90",
   "metadata": {},
   "outputs": [
    {
     "data": {
      "text/plain": [
       "[1, 2, 3, 4, 5, 'p', ['a', 4, 5, (1, 'q', 'r', '5.9'), ['ab', 'cd']]]"
      ]
     },
     "execution_count": 127,
     "metadata": {},
     "output_type": "execute_result"
    }
   ],
   "source": [
    "l = [1,2,3,4,5,\"p\", [\"a\", 4, 5, (1, \"q\", \"r\", \"5.9\"), ['ab', 'cd']]]\n",
    "l"
   ]
  },
  {
   "cell_type": "code",
   "execution_count": 128,
   "id": "3d4153d6",
   "metadata": {},
   "outputs": [
    {
     "name": "stdout",
     "output_type": "stream",
     "text": [
      "['p', 'a', 'q', 'r', '5.9', 'ab', 'cd']\n"
     ]
    }
   ],
   "source": [
    "all_str = []\n",
    "for i in l:\n",
    "    if type(i) == str:\n",
    "        all_str.append(i)\n",
    "    elif type(i) == list:\n",
    "        for j in i:\n",
    "            if type(j) == str:\n",
    "                all_str.append(j)\n",
    "            elif type(j) == tuple or type(j) == list:\n",
    "                for k in j:\n",
    "                    if type(k) == str:\n",
    "                        all_str.append(k)\n",
    "print(all_str)"
   ]
  },
  {
   "cell_type": "code",
   "execution_count": 129,
   "id": "96a06f16",
   "metadata": {},
   "outputs": [
    {
     "data": {
      "text/plain": [
       "True"
      ]
     },
     "execution_count": 129,
     "metadata": {},
     "output_type": "execute_result"
    }
   ],
   "source": [
    "str_12 = \"hello\"\n",
    "str_12.isalpha()"
   ]
  },
  {
   "cell_type": "code",
   "execution_count": 130,
   "id": "97f81006",
   "metadata": {},
   "outputs": [
    {
     "data": {
      "text/plain": [
       "False"
      ]
     },
     "execution_count": 130,
     "metadata": {},
     "output_type": "execute_result"
    }
   ],
   "source": [
    "str_13 = \"hello12\"\n",
    "str_13.isalpha()"
   ]
  },
  {
   "cell_type": "code",
   "execution_count": 131,
   "id": "990070de",
   "metadata": {},
   "outputs": [
    {
     "data": {
      "text/plain": [
       "True"
      ]
     },
     "execution_count": 131,
     "metadata": {},
     "output_type": "execute_result"
    }
   ],
   "source": [
    "str_14 = \"12345\"\n",
    "str_14.isdigit()"
   ]
  },
  {
   "cell_type": "code",
   "execution_count": 132,
   "id": "4a38e7fd",
   "metadata": {},
   "outputs": [
    {
     "data": {
      "text/plain": [
       "False"
      ]
     },
     "execution_count": 132,
     "metadata": {},
     "output_type": "execute_result"
    }
   ],
   "source": [
    "str_15 = \"ac123\"\n",
    "str_15.isdigit()"
   ]
  },
  {
   "cell_type": "code",
   "execution_count": 133,
   "id": "0c9084e9",
   "metadata": {},
   "outputs": [
    {
     "data": {
      "text/plain": [
       "False"
      ]
     },
     "execution_count": 133,
     "metadata": {},
     "output_type": "execute_result"
    }
   ],
   "source": [
    "str_16 = \"Hello\"\n",
    "str_16.islower()"
   ]
  },
  {
   "cell_type": "code",
   "execution_count": 134,
   "id": "843c6a7d",
   "metadata": {},
   "outputs": [
    {
     "data": {
      "text/plain": [
       "True"
      ]
     },
     "execution_count": 134,
     "metadata": {},
     "output_type": "execute_result"
    }
   ],
   "source": [
    "str_16.lower().islower()"
   ]
  },
  {
   "cell_type": "code",
   "execution_count": 136,
   "id": "9551d4c1",
   "metadata": {},
   "outputs": [
    {
     "data": {
      "text/plain": [
       "False"
      ]
     },
     "execution_count": 136,
     "metadata": {},
     "output_type": "execute_result"
    }
   ],
   "source": [
    "str_16.isupper()"
   ]
  },
  {
   "cell_type": "code",
   "execution_count": 135,
   "id": "fb238170",
   "metadata": {},
   "outputs": [
    {
     "data": {
      "text/plain": [
       "True"
      ]
     },
     "execution_count": 135,
     "metadata": {},
     "output_type": "execute_result"
    }
   ],
   "source": [
    "str_16.upper().isupper()"
   ]
  },
  {
   "cell_type": "code",
   "execution_count": 137,
   "id": "f948a821",
   "metadata": {},
   "outputs": [
    {
     "data": {
      "text/plain": [
       "False"
      ]
     },
     "execution_count": 137,
     "metadata": {},
     "output_type": "execute_result"
    }
   ],
   "source": [
    "str_17 = \"Pratyush Mahato\"\n",
    "str_17.isspace()"
   ]
  },
  {
   "cell_type": "code",
   "execution_count": 138,
   "id": "42b246b4",
   "metadata": {},
   "outputs": [
    {
     "data": {
      "text/plain": [
       "False"
      ]
     },
     "execution_count": 138,
     "metadata": {},
     "output_type": "execute_result"
    }
   ],
   "source": [
    "str_18 = \"Pratyush_Mahato\"\n",
    "str_18.isspace()"
   ]
  },
  {
   "cell_type": "code",
   "execution_count": 139,
   "id": "ad55a9c5",
   "metadata": {},
   "outputs": [
    {
     "data": {
      "text/plain": [
       "False"
      ]
     },
     "execution_count": 139,
     "metadata": {},
     "output_type": "execute_result"
    }
   ],
   "source": [
    "str_18.startswith(\"p\")"
   ]
  },
  {
   "cell_type": "code",
   "execution_count": 140,
   "id": "28d3221e",
   "metadata": {},
   "outputs": [
    {
     "data": {
      "text/plain": [
       "True"
      ]
     },
     "execution_count": 140,
     "metadata": {},
     "output_type": "execute_result"
    }
   ],
   "source": [
    "str_18.lower().startswith(\"p\")"
   ]
  },
  {
   "cell_type": "code",
   "execution_count": 146,
   "id": "75f77ff9",
   "metadata": {},
   "outputs": [
    {
     "data": {
      "text/plain": [
       "True"
      ]
     },
     "execution_count": 146,
     "metadata": {},
     "output_type": "execute_result"
    }
   ],
   "source": [
    "str_17.endswith(\" Mahato\")"
   ]
  },
  {
   "cell_type": "code",
   "execution_count": 147,
   "id": "d70a05bb",
   "metadata": {},
   "outputs": [
    {
     "data": {
      "text/plain": [
       "True"
      ]
     },
     "execution_count": 147,
     "metadata": {},
     "output_type": "execute_result"
    }
   ],
   "source": [
    "str_19 = \"1234\"\n",
    "str_19.isdecimal()"
   ]
  },
  {
   "cell_type": "code",
   "execution_count": 148,
   "id": "02aab828",
   "metadata": {},
   "outputs": [
    {
     "data": {
      "text/plain": [
       "False"
      ]
     },
     "execution_count": 148,
     "metadata": {},
     "output_type": "execute_result"
    }
   ],
   "source": [
    "str_20 = \"123.567\"\n",
    "str_20.isdecimal()"
   ]
  },
  {
   "cell_type": "code",
   "execution_count": null,
   "id": "1ff9ec9a",
   "metadata": {},
   "outputs": [],
   "source": [
    "# FOR loop\n",
    "# It is best suited for iterating over a list, tuple, dictionary\n",
    "# it is often used when the number of loops is pre-determined\n",
    "# there is no need to provide any explicit termination condition"
   ]
  },
  {
   "cell_type": "code",
   "execution_count": null,
   "id": "dfad4cce",
   "metadata": {},
   "outputs": [],
   "source": [
    "# WHILE loop\n",
    "# used when the loop continues untill a particular condition is met\n",
    "# We must always give an end condition or else it will become an infinite loop."
   ]
  },
  {
   "cell_type": "code",
   "execution_count": null,
   "id": "dbb02544",
   "metadata": {},
   "outputs": [],
   "source": []
  },
  {
   "cell_type": "code",
   "execution_count": null,
   "id": "6768f1b5",
   "metadata": {},
   "outputs": [],
   "source": []
  },
  {
   "cell_type": "code",
   "execution_count": null,
   "id": "aa765c97",
   "metadata": {},
   "outputs": [],
   "source": []
  },
  {
   "cell_type": "code",
   "execution_count": null,
   "id": "b4c54d82",
   "metadata": {},
   "outputs": [],
   "source": []
  }
 ],
 "metadata": {
  "kernelspec": {
   "display_name": "base",
   "language": "python",
   "name": "python3"
  },
  "language_info": {
   "codemirror_mode": {
    "name": "ipython",
    "version": 3
   },
   "file_extension": ".py",
   "mimetype": "text/x-python",
   "name": "python",
   "nbconvert_exporter": "python",
   "pygments_lexer": "ipython3",
   "version": "3.12.7"
  }
 },
 "nbformat": 4,
 "nbformat_minor": 5
}
