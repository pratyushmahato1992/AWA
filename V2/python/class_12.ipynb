{
 "cells": [
  {
   "cell_type": "markdown",
   "id": "eafe6212-4072-4082-a81c-972e9edd1eb8",
   "metadata": {},
   "source": [
    "# Loops"
   ]
  },
  {
   "cell_type": "code",
   "execution_count": 6,
   "id": "4153c578-598b-4ada-a3a2-4c5d1b7e3762",
   "metadata": {},
   "outputs": [],
   "source": [
    "# FOR loop: 0 to (n-1) "
   ]
  },
  {
   "cell_type": "code",
   "execution_count": 1,
   "id": "a4a37aa4-5d67-4507-906d-f78d70be93f7",
   "metadata": {},
   "outputs": [
    {
     "data": {
      "text/plain": [
       "[1, 3, 5, 7, 9]"
      ]
     },
     "execution_count": 1,
     "metadata": {},
     "output_type": "execute_result"
    }
   ],
   "source": [
    "list(range(1,10,2)) # start, stop, step"
   ]
  },
  {
   "cell_type": "code",
   "execution_count": 2,
   "id": "34e8ed3c-6aea-40bc-aef3-df0a5d6be6c7",
   "metadata": {},
   "outputs": [
    {
     "name": "stdout",
     "output_type": "stream",
     "text": [
      "p\n",
      "r\n",
      "a\n",
      "t\n",
      "y\n",
      "u\n",
      "s\n",
      "h\n"
     ]
    }
   ],
   "source": [
    "a = \"pratyush\"\n",
    "for i in a:\n",
    "    print(i)"
   ]
  },
  {
   "cell_type": "code",
   "execution_count": 3,
   "id": "b18635a9-44d6-4cb2-9995-420477a3985b",
   "metadata": {},
   "outputs": [
    {
     "name": "stdout",
     "output_type": "stream",
     "text": [
      "p\n",
      "r\n",
      "a\n",
      "t\n"
     ]
    }
   ],
   "source": [
    "a = \"pratyush\"\n",
    "for i in a:\n",
    "    print(i)\n",
    "    if i == 't':\n",
    "        break"
   ]
  },
  {
   "cell_type": "code",
   "execution_count": 5,
   "id": "2aec6cab-c2fd-4976-a285-1283dce977e6",
   "metadata": {},
   "outputs": [
    {
     "name": "stdout",
     "output_type": "stream",
     "text": [
      "0\n",
      "1\n",
      "2\n",
      "3\n",
      "4\n"
     ]
    }
   ],
   "source": [
    "for i in range(10):\n",
    "    if i == 5:\n",
    "        break\n",
    "    print(i)"
   ]
  },
  {
   "cell_type": "code",
   "execution_count": 21,
   "id": "4d470e30-2878-4743-b514-84d04b71b114",
   "metadata": {},
   "outputs": [
    {
     "name": "stdout",
     "output_type": "stream",
     "text": [
      "['p', 'r', 'a', 'c', 'h', 'i']\n"
     ]
    }
   ],
   "source": [
    "l = [1,2,\"p\", 3, \"r\", \"a\", True, \"c\", 3.6,\"h\", \"i\"]\n",
    "\n",
    "str_list = []\n",
    "\n",
    "for i in l:\n",
    "    if type(i) == str:\n",
    "        str_list.append(i)\n",
    "\n",
    "print(str_list)"
   ]
  },
  {
   "cell_type": "code",
   "execution_count": 1,
   "id": "e3278445-1319-40c8-9db6-9fdcdcab35c8",
   "metadata": {},
   "outputs": [
    {
     "name": "stdout",
     "output_type": "stream",
     "text": [
      "sending email to Aakash@gmail.com...\n",
      "sending email to Namita@gmail.com...\n",
      "sending email to Pratyush@gmail.com...\n"
     ]
    }
   ],
   "source": [
    "users = [\"Aakash\", \"Namita\", \"Pratyush\"]\n",
    "for i in users:\n",
    "    print(f\"sending email to {i}@gmail.com...\")"
   ]
  },
  {
   "cell_type": "code",
   "execution_count": null,
   "id": "f74f478f-3141-40db-9adb-e56c7e2545f2",
   "metadata": {},
   "outputs": [],
   "source": []
  },
  {
   "cell_type": "code",
   "execution_count": null,
   "id": "4dd114b9-9fa5-45e8-b794-06704113e4de",
   "metadata": {},
   "outputs": [
    {
     "name": "stdout",
     "output_type": "stream",
     "text": [
      "The available seats are: 89\n",
      "The available seats are: 12\n",
      "The available seats are: 45\n",
      "The available seats are: 23\n"
     ]
    }
   ],
   "source": [
    "# Displaying available seats in a theatre with seat numbers\n",
    "available_seats = {23, 45, 89, 12} # we are using set data type as we cannot have duplicate seat numbers\n",
    "for i in available_seats:\n",
    "    print(f\"The available seats are: {i}\")"
   ]
  },
  {
   "cell_type": "code",
   "execution_count": 12,
   "id": "4fe94515-70ae-4703-a602-5624fc097ff9",
   "metadata": {},
   "outputs": [
    {
     "name": "stdout",
     "output_type": "stream",
     "text": [
      "The price of laptop is Rs50000.\n",
      "The price of smartphone is Rs30000.\n",
      "The price of tablet is Rs45000.\n"
     ]
    }
   ],
   "source": [
    "# Displaying product price: we are using dictionary data type as it has key: value pairs, product_name: price\n",
    "store_products = {'laptop': 50000, 'smartphone': 30000 , 'tablet': 45000}\n",
    "for i in store_products:\n",
    "    # print(i)\n",
    "    print(f\"The price of {i} is Rs{store_products[i]}.\")"
   ]
  },
  {
   "cell_type": "code",
   "execution_count": 14,
   "id": "ae43f1fd-782e-42c5-9ab3-4ff3894bf506",
   "metadata": {},
   "outputs": [
    {
     "name": "stdout",
     "output_type": "stream",
     "text": [
      "the price of laptop is 50000.\n",
      "the price of smartphone is 30000.\n",
      "the price of tablet is 45000.\n"
     ]
    }
   ],
   "source": [
    "for i, j in store_products.items():\n",
    "    print(f\"the price of {i} is {j}.\")"
   ]
  },
  {
   "cell_type": "code",
   "execution_count": 1,
   "id": "cdb07976-83e7-4bda-8e05-3c615d90368a",
   "metadata": {},
   "outputs": [
    {
     "data": {
      "text/plain": [
       "{'john': {'id': 1, 'status': 'Yes', 'city': 'Bengaluru'},\n",
       " 'winston': {'id': 2, 'status': 'No', 'city': 'Pune'},\n",
       " 'viggo': {'id': 3, 'status': 'Yes', 'city': 'Hyderabad'}}"
      ]
     },
     "execution_count": 1,
     "metadata": {},
     "output_type": "execute_result"
    }
   ],
   "source": [
    "# Checking in attendees in a conference\n",
    "details = {'john': {'id': 1, 'status': 'Yes', 'city': 'Bengaluru'}, 'winston': {'id': 2, 'status': 'No', 'city': 'Pune'}, 'viggo': {'id': 3, 'status': 'Yes', 'city': 'Hyderabad'}}\n",
    "details"
   ]
  },
  {
   "cell_type": "code",
   "execution_count": 2,
   "id": "f25934ca",
   "metadata": {},
   "outputs": [
    {
     "name": "stdout",
     "output_type": "stream",
     "text": [
      "The people who are attending are: ['john', 'viggo']\n"
     ]
    }
   ],
   "source": [
    "# print the name of the attendees who are attending the conference\n",
    "l = []\n",
    "for i, j in details.items():\n",
    "    if j['status'].lower().strip() == 'yes':\n",
    "        l.append(i)\n",
    "\n",
    "print(f'The people who are attending are: {l}')\n"
   ]
  },
  {
   "cell_type": "code",
   "execution_count": null,
   "id": "ed5bed55",
   "metadata": {},
   "outputs": [],
   "source": [
    "name = 'pratyush'"
   ]
  },
  {
   "cell_type": "code",
   "execution_count": null,
   "id": "aac884f0",
   "metadata": {},
   "outputs": [
    {
     "data": {
      "text/plain": [
       "True"
      ]
     },
     "execution_count": 4,
     "metadata": {},
     "output_type": "execute_result"
    }
   ],
   "source": [
    "isinstance(name, str) # used to check the data type of the variable"
   ]
  },
  {
   "cell_type": "code",
   "execution_count": 5,
   "id": "d9acf443-b6b8-45b8-8cc1-c7702c7d00e9",
   "metadata": {},
   "outputs": [
    {
     "data": {
      "text/plain": [
       "False"
      ]
     },
     "execution_count": 5,
     "metadata": {},
     "output_type": "execute_result"
    }
   ],
   "source": [
    "isinstance(name, int)"
   ]
  },
  {
   "cell_type": "code",
   "execution_count": 7,
   "id": "1181fea2-76f3-4943-8e28-3ddc611fb54c",
   "metadata": {},
   "outputs": [
    {
     "name": "stdout",
     "output_type": "stream",
     "text": [
      "['q', 'w']\n"
     ]
    }
   ],
   "source": [
    "l1 = [1,2,3, 4.5,\"q\", \"w\"]\n",
    "str_items = []\n",
    "for i in l1:\n",
    "    if isinstance(i, str):\n",
    "        str_items.append(i)\n",
    "\n",
    "print(str_items)"
   ]
  },
  {
   "cell_type": "code",
   "execution_count": 8,
   "id": "32a0868d-3f1f-4de0-bbb5-635729b1244c",
   "metadata": {},
   "outputs": [
    {
     "name": "stdout",
     "output_type": "stream",
     "text": [
      "[1, 2, 3]\n"
     ]
    }
   ],
   "source": [
    "int_items = []\n",
    "for i in l1:\n",
    "    if isinstance(i, int):\n",
    "        int_items.append(i)\n",
    "\n",
    "print(int_items)"
   ]
  },
  {
   "cell_type": "code",
   "execution_count": null,
   "id": "81f3e02f",
   "metadata": {},
   "outputs": [
    {
     "data": {
      "text/plain": [
       "True"
      ]
     },
     "execution_count": 9,
     "metadata": {},
     "output_type": "execute_result"
    }
   ],
   "source": [
    "isinstance(True, int) # True = 1"
   ]
  },
  {
   "cell_type": "code",
   "execution_count": 10,
   "id": "984d0a1f",
   "metadata": {},
   "outputs": [
    {
     "data": {
      "text/plain": [
       "True"
      ]
     },
     "execution_count": 10,
     "metadata": {},
     "output_type": "execute_result"
    }
   ],
   "source": [
    "isinstance(False, bool)"
   ]
  },
  {
   "cell_type": "code",
   "execution_count": 11,
   "id": "34c3a537",
   "metadata": {},
   "outputs": [
    {
     "data": {
      "text/plain": [
       "False"
      ]
     },
     "execution_count": 11,
     "metadata": {},
     "output_type": "execute_result"
    }
   ],
   "source": [
    "isinstance(0, bool)"
   ]
  },
  {
   "cell_type": "code",
   "execution_count": 18,
   "id": "427ecb2f",
   "metadata": {},
   "outputs": [
    {
     "data": {
      "text/plain": [
       "{'name': ['pratyush', 'anand', 'prachi'],\n",
       " 'age': [23, 45, 67],\n",
       " 'gmail': ['abc*gmail.com', 'xyz@gmail.com', 'pqr@gmail.com']}"
      ]
     },
     "execution_count": 18,
     "metadata": {},
     "output_type": "execute_result"
    }
   ],
   "source": [
    "name1 = {'name': ['pratyush','anand', 'prachi'], 'age': [23, 45, 67], 'gmail': ['abc*gmail.com', 'xyz@gmail.com', 'pqr@gmail.com'] }\n",
    "name1"
   ]
  },
  {
   "cell_type": "code",
   "execution_count": null,
   "id": "6fb4d6ca",
   "metadata": {},
   "outputs": [
    {
     "data": {
      "text/plain": [
       "['pratyush',\n",
       " 'anand',\n",
       " 'prachi',\n",
       " 'abc*gmail.com',\n",
       " 'xyz@gmail.com',\n",
       " 'pqr@gmail.com']"
      ]
     },
     "execution_count": 26,
     "metadata": {},
     "output_type": "execute_result"
    }
   ],
   "source": [
    "my_str_items = []\n",
    "for i,j in name1.items():\n",
    "    if isinstance(j, list):\n",
    "        for k in j:\n",
    "            if type(k) == str:\n",
    "                my_str_items.append(k)\n",
    "\n",
    "my_str_items"
   ]
  },
  {
   "cell_type": "code",
   "execution_count": null,
   "id": "f7e3fbb4",
   "metadata": {},
   "outputs": [
    {
     "data": {
      "text/plain": [
       "['pratyush',\n",
       " 'anand',\n",
       " 'prachi',\n",
       " 'abc*gmail.com',\n",
       " 'xyz@gmail.com',\n",
       " 'pqr@gmail.com']"
      ]
     },
     "execution_count": 25,
     "metadata": {},
     "output_type": "execute_result"
    }
   ],
   "source": [
    "my_str_items_1 = []\n",
    "for i,j in name1.items():\n",
    "    if isinstance(j, list):\n",
    "        for k in j:\n",
    "            if isinstance(k,str):\n",
    "                my_str_items_1.append(k)\n",
    "\n",
    "my_str_items_1"
   ]
  },
  {
   "cell_type": "code",
   "execution_count": null,
   "id": "64b1765a",
   "metadata": {},
   "outputs": [
    {
     "data": {
      "text/plain": [
       "True"
      ]
     },
     "execution_count": 27,
     "metadata": {},
     "output_type": "execute_result"
    }
   ],
   "source": [
    "s = 'hello123'\n",
    "s.isalnum() # isalnum does not allow special characters. this function is only applicable on strings"
   ]
  },
  {
   "cell_type": "code",
   "execution_count": 28,
   "id": "469e894f",
   "metadata": {},
   "outputs": [
    {
     "data": {
      "text/plain": [
       "True"
      ]
     },
     "execution_count": 28,
     "metadata": {},
     "output_type": "execute_result"
    }
   ],
   "source": [
    "s1 = 'hello'\n",
    "s1.isalnum()"
   ]
  },
  {
   "cell_type": "code",
   "execution_count": 29,
   "id": "75000ed6",
   "metadata": {},
   "outputs": [
    {
     "data": {
      "text/plain": [
       "False"
      ]
     },
     "execution_count": 29,
     "metadata": {},
     "output_type": "execute_result"
    }
   ],
   "source": [
    "s2 = 'hello@'\n",
    "s2.isalnum()\n"
   ]
  },
  {
   "cell_type": "code",
   "execution_count": null,
   "id": "547579e0",
   "metadata": {},
   "outputs": [],
   "source": []
  },
  {
   "cell_type": "code",
   "execution_count": null,
   "id": "b1c2a6b9",
   "metadata": {},
   "outputs": [],
   "source": []
  },
  {
   "cell_type": "code",
   "execution_count": null,
   "id": "27a08ebd",
   "metadata": {},
   "outputs": [],
   "source": []
  },
  {
   "cell_type": "code",
   "execution_count": null,
   "id": "672e5f3d",
   "metadata": {},
   "outputs": [],
   "source": []
  }
 ],
 "metadata": {
  "kernelspec": {
   "display_name": "base",
   "language": "python",
   "name": "python3"
  },
  "language_info": {
   "codemirror_mode": {
    "name": "ipython",
    "version": 3
   },
   "file_extension": ".py",
   "mimetype": "text/x-python",
   "name": "python",
   "nbconvert_exporter": "python",
   "pygments_lexer": "ipython3",
   "version": "3.12.7"
  }
 },
 "nbformat": 4,
 "nbformat_minor": 5
}
