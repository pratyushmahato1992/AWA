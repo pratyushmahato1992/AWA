{
 "cells": [
  {
   "cell_type": "markdown",
   "id": "e2f62f56",
   "metadata": {},
   "source": [
    "# String Functions & Exception Handling"
   ]
  },
  {
   "cell_type": "code",
   "execution_count": 1,
   "id": "b37c245b",
   "metadata": {},
   "outputs": [],
   "source": [
    "name = \"pratyush\"\n",
    "prof = \"data analyst\""
   ]
  },
  {
   "cell_type": "code",
   "execution_count": 2,
   "id": "dbd750b7",
   "metadata": {},
   "outputs": [
    {
     "name": "stdout",
     "output_type": "stream",
     "text": [
      "Hello! I am pratyush and I am a data analyst\n"
     ]
    }
   ],
   "source": [
    "print(\"Hello! I am\", name, \"and I am a\", prof)"
   ]
  },
  {
   "cell_type": "code",
   "execution_count": 3,
   "id": "114de3e9",
   "metadata": {},
   "outputs": [
    {
     "name": "stdout",
     "output_type": "stream",
     "text": [
      "Hello my name is pratyush mahato and I am a data analyst. I am 32 years old. The temp in Gurugram is 42.500000 degree celcius\n"
     ]
    }
   ],
   "source": [
    "name = \"pratyush\"\n",
    "prof = \"data analyst\"\n",
    "surname = 'mahato'\n",
    "age = 32\n",
    "temp = 42.5\n",
    "print('Hello my name is %s %s and I am a %s. I am %d years old. The temp in Gurugram is %f degree celcius' %(name, surname, prof, age, temp))"
   ]
  },
  {
   "cell_type": "code",
   "execution_count": 11,
   "id": "4e195527",
   "metadata": {},
   "outputs": [
    {
     "name": "stdout",
     "output_type": "stream",
     "text": [
      "Hello! I am pratyush Mahato and I am a data analyst. My age is 32. The current temp in Gurgaon is 42.5\n"
     ]
    }
   ],
   "source": [
    "print(f\"Hello! I am {name + ' Mahato'} and I am a {prof}. My age is {age}. The current temp in Gurgaon is {temp:.1f}\") # f-string method"
   ]
  },
  {
   "cell_type": "code",
   "execution_count": 12,
   "id": "a7516172",
   "metadata": {},
   "outputs": [
    {
     "name": "stdout",
     "output_type": "stream",
     "text": [
      "John has 3 apples and 2 oranges\n"
     ]
    }
   ],
   "source": [
    "print(\"John has 3 apples and 2 oranges\")"
   ]
  },
  {
   "cell_type": "code",
   "execution_count": 13,
   "id": "82cdaff7",
   "metadata": {},
   "outputs": [
    {
     "name": "stdout",
     "output_type": "stream",
     "text": [
      "The result of 8 multiplied by 7 is 56\n"
     ]
    }
   ],
   "source": [
    "num1 = 8\n",
    "num2 = 7\n",
    "\n",
    "print(f\"The result of {num1} multiplied by {num2} is {num1 * num2}\")"
   ]
  },
  {
   "cell_type": "code",
   "execution_count": 14,
   "id": "28313cf3",
   "metadata": {},
   "outputs": [
    {
     "name": "stdout",
     "output_type": "stream",
     "text": [
      "The sum of 5 and 3 is 8 and their product is 15. \n"
     ]
    }
   ],
   "source": [
    "a = 5\n",
    "b = 3\n",
    "\n",
    "print(f\"The sum of {a} and {b} is {a+b} and their product is {a*b}. \")"
   ]
  },
  {
   "cell_type": "markdown",
   "id": "f2904fb9",
   "metadata": {},
   "source": [
    "# Exception Handling"
   ]
  },
  {
   "cell_type": "markdown",
   "id": "3d814071",
   "metadata": {},
   "source": [
    "# Types of errors in python\n",
    "## 1. Syntax errors\n",
    "## 2. Exceptions "
   ]
  },
  {
   "cell_type": "markdown",
   "id": "92a04e4b",
   "metadata": {},
   "source": [
    "# Common python exceptions\n",
    "## 1. ZeroDivisionError\n",
    "## 2. ValueError\n",
    "## 3. TypeError\n",
    "## 4. IndexError\n",
    "## 5. KeyError"
   ]
  },
  {
   "cell_type": "code",
   "execution_count": null,
   "id": "6ac7a80b",
   "metadata": {},
   "outputs": [
    {
     "ename": "ZeroDivisionError",
     "evalue": "division by zero",
     "output_type": "error",
     "traceback": [
      "\u001b[1;31m---------------------------------------------------------------------------\u001b[0m",
      "\u001b[1;31mZeroDivisionError\u001b[0m                         Traceback (most recent call last)",
      "Cell \u001b[1;32mIn[17], line 4\u001b[0m\n\u001b[0;32m      1\u001b[0m num1 \u001b[38;5;241m=\u001b[39m \u001b[38;5;241m10\u001b[39m\n\u001b[0;32m      2\u001b[0m num2 \u001b[38;5;241m=\u001b[39m \u001b[38;5;28mint\u001b[39m(\u001b[38;5;28minput\u001b[39m(\u001b[38;5;124m\"\u001b[39m\u001b[38;5;124menter a number: \u001b[39m\u001b[38;5;124m\"\u001b[39m))\n\u001b[1;32m----> 4\u001b[0m result \u001b[38;5;241m=\u001b[39m num1\u001b[38;5;241m/\u001b[39mnum2\n\u001b[0;32m      6\u001b[0m \u001b[38;5;28mprint\u001b[39m(\u001b[38;5;124mf\u001b[39m\u001b[38;5;124m\"\u001b[39m\u001b[38;5;124mDivision of \u001b[39m\u001b[38;5;132;01m{\u001b[39;00mnum1\u001b[38;5;132;01m}\u001b[39;00m\u001b[38;5;124m and \u001b[39m\u001b[38;5;132;01m{\u001b[39;00mnum2\u001b[38;5;132;01m:\u001b[39;00m\u001b[38;5;124m.2f\u001b[39m\u001b[38;5;132;01m}\u001b[39;00m\u001b[38;5;124m is \u001b[39m\u001b[38;5;132;01m{\u001b[39;00mresult\u001b[38;5;132;01m}\u001b[39;00m\u001b[38;5;124m\"\u001b[39m)\n",
      "\u001b[1;31mZeroDivisionError\u001b[0m: division by zero"
     ]
    }
   ],
   "source": [
    "num1 = 10\n",
    "num2 = int(input(\"enter a number: \"))\n",
    "\n",
    "result = num1/num2\n",
    "\n",
    "print(f\"Division of {num1} and {num2:.2f} is {result:.2f}\")"
   ]
  },
  {
   "cell_type": "code",
   "execution_count": 20,
   "id": "1ab4f3a0",
   "metadata": {},
   "outputs": [
    {
     "name": "stdout",
     "output_type": "stream",
     "text": [
      "Division of 10 and 3.00 is 3.33\n"
     ]
    }
   ],
   "source": [
    "num1 = 10\n",
    "num2 = int(input(\"enter a number: \"))\n",
    "\n",
    "result = num1/num2\n",
    "\n",
    "print(f\"Division of {num1} and {num2:.2f} is {result:.2f}\")"
   ]
  },
  {
   "cell_type": "code",
   "execution_count": 23,
   "id": "a969d2e1",
   "metadata": {},
   "outputs": [
    {
     "ename": "ValueError",
     "evalue": "invalid literal for int() with base 10: 'abc'",
     "output_type": "error",
     "traceback": [
      "\u001b[1;31m---------------------------------------------------------------------------\u001b[0m",
      "\u001b[1;31mValueError\u001b[0m                                Traceback (most recent call last)",
      "Cell \u001b[1;32mIn[23], line 2\u001b[0m\n\u001b[0;32m      1\u001b[0m name \u001b[38;5;241m=\u001b[39m \u001b[38;5;124m'\u001b[39m\u001b[38;5;124mabc\u001b[39m\u001b[38;5;124m'\u001b[39m\n\u001b[1;32m----> 2\u001b[0m \u001b[38;5;28mprint\u001b[39m(\u001b[38;5;28mint\u001b[39m(name))\n",
      "\u001b[1;31mValueError\u001b[0m: invalid literal for int() with base 10: 'abc'"
     ]
    }
   ],
   "source": [
    "name = 'abc'\n",
    "print(int(name)) # when we receive an inappropriate value"
   ]
  },
  {
   "cell_type": "code",
   "execution_count": null,
   "id": "60e76a42",
   "metadata": {},
   "outputs": [
    {
     "name": "stdout",
     "output_type": "stream",
     "text": [
      "invalid literal for int() with base 10: 'abc'\n"
     ]
    }
   ],
   "source": [
    "# try except \n",
    "try:\n",
    "    name = 'abc'\n",
    "    print(int(name))\n",
    "except Exception as e:\n",
    "    print(e, type(e))\n"
   ]
  },
  {
   "cell_type": "code",
   "execution_count": 32,
   "id": "7b3ce62e",
   "metadata": {},
   "outputs": [
    {
     "name": "stdout",
     "output_type": "stream",
     "text": [
      "Error! num2:b unsupported operand type(s) for +\n"
     ]
    }
   ],
   "source": [
    "try:\n",
    "    num1 - 5\n",
    "    num2 = eval(input('enter a number: '))\n",
    "    result = num1 + num2\n",
    "    print(result)\n",
    "except TypeError:\n",
    "    print(f'Error! num2:{num2} unsupported operand type(s) for +')\n",
    "except ValueError:\n",
    "    print(f'Error! num2:{num2} invalid literal for INT')"
   ]
  },
  {
   "cell_type": "code",
   "execution_count": 33,
   "id": "3e2531ac",
   "metadata": {},
   "outputs": [
    {
     "name": "stdout",
     "output_type": "stream",
     "text": [
      "Error! num2:b invalid literal for INT\n"
     ]
    }
   ],
   "source": [
    "try:\n",
    "    num1 - 5\n",
    "    num2 = int(input('enter a number: '))\n",
    "    result = num1 + num2\n",
    "    print(result)\n",
    "except TypeError:\n",
    "    print(f'Error! num2:{num2} unsupported operand type(s) for +')\n",
    "except ValueError:\n",
    "    print(f'Error! num2:{num2} invalid literal for INT')"
   ]
  },
  {
   "cell_type": "code",
   "execution_count": 34,
   "id": "d1fd9f55",
   "metadata": {},
   "outputs": [
    {
     "ename": "IndexError",
     "evalue": "list index out of range",
     "output_type": "error",
     "traceback": [
      "\u001b[1;31m---------------------------------------------------------------------------\u001b[0m",
      "\u001b[1;31mIndexError\u001b[0m                                Traceback (most recent call last)",
      "Cell \u001b[1;32mIn[34], line 2\u001b[0m\n\u001b[0;32m      1\u001b[0m list1 \u001b[38;5;241m=\u001b[39m [\u001b[38;5;241m1\u001b[39m,\u001b[38;5;241m2\u001b[39m,\u001b[38;5;241m3\u001b[39m,\u001b[38;5;241m4\u001b[39m,\u001b[38;5;124m\"\u001b[39m\u001b[38;5;124ma\u001b[39m\u001b[38;5;124m\"\u001b[39m, \u001b[38;5;124m\"\u001b[39m\u001b[38;5;124mab\u001b[39m\u001b[38;5;124m\"\u001b[39m, \u001b[38;5;124m\"\u001b[39m\u001b[38;5;124mabc\u001b[39m\u001b[38;5;124m\"\u001b[39m]\n\u001b[1;32m----> 2\u001b[0m list1[\u001b[38;5;241m10\u001b[39m]\n",
      "\u001b[1;31mIndexError\u001b[0m: list index out of range"
     ]
    }
   ],
   "source": [
    "list1 = [1,2,3,4,\"a\", \"ab\", \"abc\"]\n",
    "list1[10]"
   ]
  },
  {
   "cell_type": "code",
   "execution_count": 35,
   "id": "bdcf388d",
   "metadata": {},
   "outputs": [
    {
     "ename": "KeyError",
     "evalue": "4",
     "output_type": "error",
     "traceback": [
      "\u001b[1;31m---------------------------------------------------------------------------\u001b[0m",
      "\u001b[1;31mKeyError\u001b[0m                                  Traceback (most recent call last)",
      "Cell \u001b[1;32mIn[35], line 2\u001b[0m\n\u001b[0;32m      1\u001b[0m dict1 \u001b[38;5;241m=\u001b[39m {\u001b[38;5;241m1\u001b[39m:\u001b[38;5;124m\"\u001b[39m\u001b[38;5;124ma\u001b[39m\u001b[38;5;124m\"\u001b[39m, \u001b[38;5;241m2\u001b[39m:\u001b[38;5;124m\"\u001b[39m\u001b[38;5;124mb\u001b[39m\u001b[38;5;124m\"\u001b[39m, \u001b[38;5;241m3\u001b[39m:\u001b[38;5;124m\"\u001b[39m\u001b[38;5;124mc\u001b[39m\u001b[38;5;124m\"\u001b[39m}\n\u001b[1;32m----> 2\u001b[0m dict1[\u001b[38;5;241m4\u001b[39m]\n",
      "\u001b[1;31mKeyError\u001b[0m: 4"
     ]
    }
   ],
   "source": [
    "dict1 = {1:\"a\", 2:\"b\", 3:\"c\"}\n",
    "dict1[4]"
   ]
  },
  {
   "cell_type": "code",
   "execution_count": 36,
   "id": "5aa3a5db",
   "metadata": {},
   "outputs": [
    {
     "ename": "FileNotFoundError",
     "evalue": "[Errno 2] No such file or directory: 'p.txt'",
     "output_type": "error",
     "traceback": [
      "\u001b[1;31m---------------------------------------------------------------------------\u001b[0m",
      "\u001b[1;31mFileNotFoundError\u001b[0m                         Traceback (most recent call last)",
      "Cell \u001b[1;32mIn[36], line 1\u001b[0m\n\u001b[1;32m----> 1\u001b[0m file \u001b[38;5;241m=\u001b[39m \u001b[38;5;28mopen\u001b[39m(\u001b[38;5;124m'\u001b[39m\u001b[38;5;124mp.txt\u001b[39m\u001b[38;5;124m'\u001b[39m,\u001b[38;5;124m'\u001b[39m\u001b[38;5;124mr\u001b[39m\u001b[38;5;124m'\u001b[39m)\n",
      "File \u001b[1;32mc:\\Users\\praty\\anaconda3\\Lib\\site-packages\\IPython\\core\\interactiveshell.py:324\u001b[0m, in \u001b[0;36m_modified_open\u001b[1;34m(file, *args, **kwargs)\u001b[0m\n\u001b[0;32m    317\u001b[0m \u001b[38;5;28;01mif\u001b[39;00m file \u001b[38;5;129;01min\u001b[39;00m {\u001b[38;5;241m0\u001b[39m, \u001b[38;5;241m1\u001b[39m, \u001b[38;5;241m2\u001b[39m}:\n\u001b[0;32m    318\u001b[0m     \u001b[38;5;28;01mraise\u001b[39;00m \u001b[38;5;167;01mValueError\u001b[39;00m(\n\u001b[0;32m    319\u001b[0m         \u001b[38;5;124mf\u001b[39m\u001b[38;5;124m\"\u001b[39m\u001b[38;5;124mIPython won\u001b[39m\u001b[38;5;124m'\u001b[39m\u001b[38;5;124mt let you open fd=\u001b[39m\u001b[38;5;132;01m{\u001b[39;00mfile\u001b[38;5;132;01m}\u001b[39;00m\u001b[38;5;124m by default \u001b[39m\u001b[38;5;124m\"\u001b[39m\n\u001b[0;32m    320\u001b[0m         \u001b[38;5;124m\"\u001b[39m\u001b[38;5;124mas it is likely to crash IPython. If you know what you are doing, \u001b[39m\u001b[38;5;124m\"\u001b[39m\n\u001b[0;32m    321\u001b[0m         \u001b[38;5;124m\"\u001b[39m\u001b[38;5;124myou can use builtins\u001b[39m\u001b[38;5;124m'\u001b[39m\u001b[38;5;124m open.\u001b[39m\u001b[38;5;124m\"\u001b[39m\n\u001b[0;32m    322\u001b[0m     )\n\u001b[1;32m--> 324\u001b[0m \u001b[38;5;28;01mreturn\u001b[39;00m io_open(file, \u001b[38;5;241m*\u001b[39margs, \u001b[38;5;241m*\u001b[39m\u001b[38;5;241m*\u001b[39mkwargs)\n",
      "\u001b[1;31mFileNotFoundError\u001b[0m: [Errno 2] No such file or directory: 'p.txt'"
     ]
    }
   ],
   "source": [
    "file = open('p.txt','r')\n"
   ]
  },
  {
   "cell_type": "code",
   "execution_count": 41,
   "id": "30a5464f",
   "metadata": {},
   "outputs": [
    {
     "name": "stdout",
     "output_type": "stream",
     "text": [
      "[Errno 2] No such file or directory: 'p.txt'\n",
      "Finally Block Executed!\n"
     ]
    }
   ],
   "source": [
    "try:\n",
    "    file = open('p.txt','r')\n",
    "except Exception as e:\n",
    "    print(e)\n",
    "finally:\n",
    "    print('Finally Block Executed!')"
   ]
  },
  {
   "cell_type": "code",
   "execution_count": null,
   "id": "084010df",
   "metadata": {},
   "outputs": [],
   "source": []
  }
 ],
 "metadata": {
  "kernelspec": {
   "display_name": "base",
   "language": "python",
   "name": "python3"
  },
  "language_info": {
   "codemirror_mode": {
    "name": "ipython",
    "version": 3
   },
   "file_extension": ".py",
   "mimetype": "text/x-python",
   "name": "python",
   "nbconvert_exporter": "python",
   "pygments_lexer": "ipython3",
   "version": "3.12.7"
  }
 },
 "nbformat": 4,
 "nbformat_minor": 5
}
