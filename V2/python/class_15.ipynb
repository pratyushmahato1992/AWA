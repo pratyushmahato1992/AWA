{
 "cells": [
  {
   "cell_type": "markdown",
   "id": "96d798e9",
   "metadata": {},
   "source": [
    "# Functions"
   ]
  },
  {
   "cell_type": "code",
   "execution_count": 2,
   "id": "cbef281b",
   "metadata": {},
   "outputs": [],
   "source": [
    "def my_add(a,b):\n",
    "    return a+b"
   ]
  },
  {
   "cell_type": "code",
   "execution_count": 3,
   "id": "03f1e6f4",
   "metadata": {},
   "outputs": [
    {
     "data": {
      "text/plain": [
       "9"
      ]
     },
     "execution_count": 3,
     "metadata": {},
     "output_type": "execute_result"
    }
   ],
   "source": [
    "my_add(5,4)"
   ]
  },
  {
   "cell_type": "code",
   "execution_count": null,
   "id": "12a9638b",
   "metadata": {},
   "outputs": [],
   "source": [
    "def greet(name):\n",
    "    return f\"Hello! {name}\""
   ]
  },
  {
   "cell_type": "code",
   "execution_count": 8,
   "id": "c869bcc1",
   "metadata": {},
   "outputs": [
    {
     "data": {
      "text/plain": [
       "'Hello! pratyush'"
      ]
     },
     "execution_count": 8,
     "metadata": {},
     "output_type": "execute_result"
    }
   ],
   "source": [
    "var1 = greet('pratyush')\n",
    "var1"
   ]
  },
  {
   "cell_type": "code",
   "execution_count": 7,
   "id": "be51dcd7",
   "metadata": {},
   "outputs": [
    {
     "name": "stdout",
     "output_type": "stream",
     "text": [
      "Hello! pratyush\n"
     ]
    }
   ],
   "source": [
    "print(var1)"
   ]
  },
  {
   "cell_type": "code",
   "execution_count": 9,
   "id": "01af28de",
   "metadata": {},
   "outputs": [],
   "source": [
    "def my_sub(a,b):\n",
    "    return a-b"
   ]
  },
  {
   "cell_type": "code",
   "execution_count": 10,
   "id": "23bb67ef",
   "metadata": {},
   "outputs": [
    {
     "data": {
      "text/plain": [
       "-2"
      ]
     },
     "execution_count": 10,
     "metadata": {},
     "output_type": "execute_result"
    }
   ],
   "source": [
    "my_sub(3,5)"
   ]
  },
  {
   "cell_type": "code",
   "execution_count": 11,
   "id": "8f250028",
   "metadata": {},
   "outputs": [],
   "source": [
    "def my_div(a,b):\n",
    "    return a/b"
   ]
  },
  {
   "cell_type": "code",
   "execution_count": 12,
   "id": "d0143d03",
   "metadata": {},
   "outputs": [
    {
     "ename": "ZeroDivisionError",
     "evalue": "division by zero",
     "output_type": "error",
     "traceback": [
      "\u001b[1;31m---------------------------------------------------------------------------\u001b[0m",
      "\u001b[1;31mZeroDivisionError\u001b[0m                         Traceback (most recent call last)",
      "Cell \u001b[1;32mIn[12], line 1\u001b[0m\n\u001b[1;32m----> 1\u001b[0m my_div(\u001b[38;5;241m5\u001b[39m,\u001b[38;5;241m0\u001b[39m)\n",
      "Cell \u001b[1;32mIn[11], line 2\u001b[0m, in \u001b[0;36mmy_div\u001b[1;34m(a, b)\u001b[0m\n\u001b[0;32m      1\u001b[0m \u001b[38;5;28;01mdef\u001b[39;00m\u001b[38;5;250m \u001b[39m\u001b[38;5;21mmy_div\u001b[39m(a,b):\n\u001b[1;32m----> 2\u001b[0m     \u001b[38;5;28;01mreturn\u001b[39;00m a\u001b[38;5;241m/\u001b[39mb\n",
      "\u001b[1;31mZeroDivisionError\u001b[0m: division by zero"
     ]
    }
   ],
   "source": [
    "my_div(5,0)"
   ]
  },
  {
   "cell_type": "code",
   "execution_count": 15,
   "id": "cbf0881d",
   "metadata": {},
   "outputs": [],
   "source": [
    "def greet1(name, message = \"Hello\"):\n",
    "    return f\"{message} {name}\""
   ]
  },
  {
   "cell_type": "code",
   "execution_count": 16,
   "id": "47d4b9c9",
   "metadata": {},
   "outputs": [
    {
     "data": {
      "text/plain": [
       "'Hello Pratyush'"
      ]
     },
     "execution_count": 16,
     "metadata": {},
     "output_type": "execute_result"
    }
   ],
   "source": [
    "greet1('Pratyush')"
   ]
  },
  {
   "cell_type": "code",
   "execution_count": 17,
   "id": "c8837845",
   "metadata": {},
   "outputs": [
    {
     "data": {
      "text/plain": [
       "'Hi Prachi'"
      ]
     },
     "execution_count": 17,
     "metadata": {},
     "output_type": "execute_result"
    }
   ],
   "source": [
    "greet1('Prachi', 'Hi')"
   ]
  },
  {
   "cell_type": "code",
   "execution_count": null,
   "id": "d030ebc1",
   "metadata": {},
   "outputs": [],
   "source": [
    "def greet2(rank, address, name=\"pratyush\"): # default argument follows non-default arguments. Here name='pratyush' is a default argument\n",
    "    return f\"{name} {rank} {address}\""
   ]
  },
  {
   "cell_type": "code",
   "execution_count": 23,
   "id": "960b1dc5",
   "metadata": {},
   "outputs": [
    {
     "data": {
      "text/plain": [
       "'pratyush 5 gurgaon'"
      ]
     },
     "execution_count": 23,
     "metadata": {},
     "output_type": "execute_result"
    }
   ],
   "source": [
    "greet2(5, 'gurgaon')"
   ]
  },
  {
   "cell_type": "code",
   "execution_count": 24,
   "id": "fda292c6",
   "metadata": {},
   "outputs": [
    {
     "data": {
      "text/plain": [
       "'prachi 4 noida'"
      ]
     },
     "execution_count": 24,
     "metadata": {},
     "output_type": "execute_result"
    }
   ],
   "source": [
    "greet2(4, 'noida', 'prachi')"
   ]
  },
  {
   "cell_type": "code",
   "execution_count": 25,
   "id": "12d0f160",
   "metadata": {},
   "outputs": [],
   "source": [
    "def greet3(rank, address=None, name='pratyush'):\n",
    "    return f\"{name}, {rank}, {address}\""
   ]
  },
  {
   "cell_type": "code",
   "execution_count": 26,
   "id": "2c443f6a",
   "metadata": {},
   "outputs": [
    {
     "data": {
      "text/plain": [
       "'pratyush, 4, None'"
      ]
     },
     "execution_count": 26,
     "metadata": {},
     "output_type": "execute_result"
    }
   ],
   "source": [
    "greet3(4)"
   ]
  },
  {
   "cell_type": "code",
   "execution_count": null,
   "id": "28a96c5a",
   "metadata": {},
   "outputs": [
    {
     "data": {
      "text/plain": [
       "'amit, 1, Bengaluru'"
      ]
     },
     "execution_count": 27,
     "metadata": {},
     "output_type": "execute_result"
    }
   ],
   "source": [
    "greet3(name='amit', address='Bengaluru', rank=1) # Keyword Arguments"
   ]
  },
  {
   "cell_type": "code",
   "execution_count": null,
   "id": "71524041",
   "metadata": {},
   "outputs": [],
   "source": [
    "def my_add1(*args):\n",
    "    return sum(args)"
   ]
  },
  {
   "cell_type": "code",
   "execution_count": 30,
   "id": "af5a0884",
   "metadata": {},
   "outputs": [
    {
     "data": {
      "text/plain": [
       "6"
      ]
     },
     "execution_count": 30,
     "metadata": {},
     "output_type": "execute_result"
    }
   ],
   "source": [
    "my_add1(1,2,3)"
   ]
  },
  {
   "cell_type": "code",
   "execution_count": null,
   "id": "cb749af9",
   "metadata": {},
   "outputs": [
    {
     "data": {
      "text/plain": [
       "('pratyush', 'prachi', 'anand', 'ankit')"
      ]
     },
     "execution_count": 33,
     "metadata": {},
     "output_type": "execute_result"
    }
   ],
   "source": [
    "def my_add_2(*name):\n",
    "    return name\n",
    "\n",
    "my_add_2(\"pratyush\", 'prachi', 'anand', 'ankit') # output is a tuple"
   ]
  },
  {
   "cell_type": "code",
   "execution_count": 31,
   "id": "0b5e1827",
   "metadata": {},
   "outputs": [],
   "source": [
    "def my_dict_1(**kwargs):\n",
    "    return kwargs"
   ]
  },
  {
   "cell_type": "code",
   "execution_count": null,
   "id": "72efb3a3",
   "metadata": {},
   "outputs": [
    {
     "data": {
      "text/plain": [
       "{'name': 'pratyush', 'city': 'Gurgaon', 'profession': 'data analyst'}"
      ]
     },
     "execution_count": 32,
     "metadata": {},
     "output_type": "execute_result"
    }
   ],
   "source": [
    "my_dict_1(name='pratyush', city='Gurgaon', profession='data analyst') # output is a dictionary, keyword:argument"
   ]
  },
  {
   "cell_type": "code",
   "execution_count": 34,
   "id": "0f920efc",
   "metadata": {},
   "outputs": [],
   "source": [
    "def my_abc(**xyz):\n",
    "    for key, value in xyz.items():\n",
    "        print(f\"{key}: {value}\")"
   ]
  },
  {
   "cell_type": "code",
   "execution_count": 35,
   "id": "2080e228",
   "metadata": {},
   "outputs": [
    {
     "name": "stdout",
     "output_type": "stream",
     "text": [
      "name: pratyush\n",
      "city: Gurgaon\n",
      "profession: data analyst\n"
     ]
    }
   ],
   "source": [
    "my_abc(name='pratyush', city='Gurgaon', profession='data analyst')"
   ]
  },
  {
   "cell_type": "code",
   "execution_count": 44,
   "id": "b59d36e2",
   "metadata": {},
   "outputs": [
    {
     "name": "stdout",
     "output_type": "stream",
     "text": [
      "name: Pratyush\n",
      "age: 30\n"
     ]
    }
   ],
   "source": [
    "def get_name_and_age(): # Return statement can be used to return a value back to the caller. a function can return multiple values in the form of tuple\n",
    "    return \"Pratyush\", 30\n",
    "\n",
    "name, age = get_name_and_age()\n",
    "print(f\"name: {name}\")\n",
    "print(f\"age: {age}\")"
   ]
  },
  {
   "cell_type": "markdown",
   "id": "50cc0991",
   "metadata": {},
   "source": [
    "# Variable Scope in Functions"
   ]
  },
  {
   "cell_type": "code",
   "execution_count": 2,
   "id": "c695e2a8",
   "metadata": {},
   "outputs": [
    {
     "data": {
      "text/plain": [
       "6"
      ]
     },
     "execution_count": 2,
     "metadata": {},
     "output_type": "execute_result"
    }
   ],
   "source": [
    "def my_func():\n",
    "    x = 4\n",
    "    return x+2\n",
    "\n",
    "my_func()"
   ]
  },
  {
   "cell_type": "code",
   "execution_count": 3,
   "id": "3e5958fe",
   "metadata": {},
   "outputs": [
    {
     "ename": "NameError",
     "evalue": "name 'x' is not defined",
     "output_type": "error",
     "traceback": [
      "\u001b[1;31m---------------------------------------------------------------------------\u001b[0m",
      "\u001b[1;31mNameError\u001b[0m                                 Traceback (most recent call last)",
      "Cell \u001b[1;32mIn[3], line 1\u001b[0m\n\u001b[1;32m----> 1\u001b[0m \u001b[38;5;28mprint\u001b[39m(x)\n",
      "\u001b[1;31mNameError\u001b[0m: name 'x' is not defined"
     ]
    }
   ],
   "source": [
    "print(x)"
   ]
  },
  {
   "cell_type": "code",
   "execution_count": null,
   "id": "4ecad0ac",
   "metadata": {},
   "outputs": [
    {
     "data": {
      "text/plain": [
       "7"
      ]
     },
     "execution_count": 4,
     "metadata": {},
     "output_type": "execute_result"
    }
   ],
   "source": [
    "a = 10 # global variable\n",
    "def my_func1():\n",
    "    a = 3 # local variable. it can be used only in that particular scope.\n",
    "    return a+4\n",
    "my_func1()"
   ]
  },
  {
   "cell_type": "code",
   "execution_count": 5,
   "id": "270ca8f4",
   "metadata": {},
   "outputs": [
    {
     "name": "stdout",
     "output_type": "stream",
     "text": [
      "10\n"
     ]
    }
   ],
   "source": [
    "print(a)"
   ]
  },
  {
   "cell_type": "code",
   "execution_count": 6,
   "id": "4122f903",
   "metadata": {},
   "outputs": [],
   "source": [
    "def abc():\n",
    "    y = 10\n",
    "\n",
    "abc()"
   ]
  },
  {
   "cell_type": "code",
   "execution_count": 7,
   "id": "c712aff7",
   "metadata": {},
   "outputs": [
    {
     "name": "stdout",
     "output_type": "stream",
     "text": [
      "None\n"
     ]
    }
   ],
   "source": [
    "print(abc())"
   ]
  },
  {
   "cell_type": "code",
   "execution_count": null,
   "id": "e4f255a9",
   "metadata": {},
   "outputs": [],
   "source": [
    "def my_func2():\n",
    "    global x # global scope\n",
    "    x = 91\n",
    "my_func2()"
   ]
  },
  {
   "cell_type": "code",
   "execution_count": null,
   "id": "5a33952c",
   "metadata": {},
   "outputs": [
    {
     "name": "stdout",
     "output_type": "stream",
     "text": [
      "91\n"
     ]
    }
   ],
   "source": [
    "print(x) # global scope"
   ]
  },
  {
   "cell_type": "code",
   "execution_count": 12,
   "id": "bf2ea513",
   "metadata": {},
   "outputs": [
    {
     "data": {
      "text/plain": [
       "91"
      ]
     },
     "execution_count": 12,
     "metadata": {},
     "output_type": "execute_result"
    }
   ],
   "source": [
    "x = 19\n",
    "def my_func2():\n",
    "    global x # global scope\n",
    "    x = 91\n",
    "    return x\n",
    "my_func2()"
   ]
  },
  {
   "cell_type": "code",
   "execution_count": 14,
   "id": "86e046c8",
   "metadata": {},
   "outputs": [
    {
     "name": "stdout",
     "output_type": "stream",
     "text": [
      "91\n"
     ]
    }
   ],
   "source": [
    "print(x)"
   ]
  },
  {
   "cell_type": "code",
   "execution_count": 15,
   "id": "f80841cd",
   "metadata": {},
   "outputs": [
    {
     "name": "stdout",
     "output_type": "stream",
     "text": [
      "outer\n"
     ]
    }
   ],
   "source": [
    "def outer_function():\n",
    "    x = \"outer\"\n",
    "\n",
    "    def inner_function():\n",
    "        nonlocal x # this will update the value of x in \n",
    "        x=\"inner\"\n",
    "\n",
    "    print(x)\n",
    "\n",
    "outer_function()"
   ]
  },
  {
   "cell_type": "code",
   "execution_count": null,
   "id": "04862504",
   "metadata": {},
   "outputs": [
    {
     "name": "stdout",
     "output_type": "stream",
     "text": [
      "inner\n"
     ]
    }
   ],
   "source": [
    "def outer_function():\n",
    "    x = \"outer\"\n",
    "\n",
    "    def inner_function():\n",
    "        nonlocal x # this will update the value of x in outer function\n",
    "        x=\"inner\"\n",
    "\n",
    "    inner_function()\n",
    "    print(x)\n",
    "\n",
    "outer_function()"
   ]
  },
  {
   "cell_type": "code",
   "execution_count": null,
   "id": "3f317cd4",
   "metadata": {},
   "outputs": [],
   "source": []
  }
 ],
 "metadata": {
  "kernelspec": {
   "display_name": "base",
   "language": "python",
   "name": "python3"
  },
  "language_info": {
   "codemirror_mode": {
    "name": "ipython",
    "version": 3
   },
   "file_extension": ".py",
   "mimetype": "text/x-python",
   "name": "python",
   "nbconvert_exporter": "python",
   "pygments_lexer": "ipython3",
   "version": "3.12.7"
  }
 },
 "nbformat": 4,
 "nbformat_minor": 5
}
