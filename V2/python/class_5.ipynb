{
 "cells": [
  {
   "cell_type": "code",
   "execution_count": 2,
   "id": "7e77d9b5-1747-4942-9305-80bb8d236b7f",
   "metadata": {},
   "outputs": [
    {
     "name": "stdout",
     "output_type": "stream",
     "text": [
      "enter name:  pratyush\n"
     ]
    },
    {
     "name": "stdout",
     "output_type": "stream",
     "text": [
      "Hello pratyush !\n"
     ]
    }
   ],
   "source": [
    "a = input(\"enter name: \")\n",
    "print(\"Hello\", a, '!')"
   ]
  },
  {
   "cell_type": "code",
   "execution_count": 3,
   "id": "a209c119-2dc6-4897-9bb2-b5f42e0826d6",
   "metadata": {},
   "outputs": [
    {
     "name": "stdout",
     "output_type": "stream",
     "text": [
      "10\n"
     ]
    }
   ],
   "source": [
    "number = 10\n",
    "print(number)"
   ]
  },
  {
   "cell_type": "code",
   "execution_count": 4,
   "id": "b5cc634c-2112-40d5-a868-57c5ceddb5b6",
   "metadata": {},
   "outputs": [
    {
     "name": "stdout",
     "output_type": "stream",
     "text": [
      "enter a number:  1\n"
     ]
    },
    {
     "name": "stdout",
     "output_type": "stream",
     "text": [
      "1 <class 'str'>\n"
     ]
    }
   ],
   "source": [
    "num = input(\"enter a number: \")\n",
    "print(num, type(num))"
   ]
  },
  {
   "cell_type": "code",
   "execution_count": 11,
   "id": "c4e57fd2-991c-4657-abb6-5163cf0ef8e0",
   "metadata": {},
   "outputs": [
    {
     "name": "stdout",
     "output_type": "stream",
     "text": [
      "enter a number:  'pratyush'\n"
     ]
    },
    {
     "name": "stdout",
     "output_type": "stream",
     "text": [
      "pratyush <class 'str'>\n"
     ]
    }
   ],
   "source": [
    "num1 = eval(input(\"enter a number: \"))\n",
    "print(num1, type(num1))"
   ]
  },
  {
   "cell_type": "code",
   "execution_count": 2,
   "id": "91761ee9-8cba-4cd9-bf05-f1f003e197d1",
   "metadata": {},
   "outputs": [
    {
     "name": "stdout",
     "output_type": "stream",
     "text": [
      "56 <class 'str'>\n"
     ]
    }
   ],
   "source": [
    "num1 = input('enter first number: ')\n",
    "num2 = input('enter second number: ')\n",
    "\n",
    "print(num1 + num2, type(num1+num2))"
   ]
  },
  {
   "cell_type": "code",
   "execution_count": 5,
   "id": "528fb89f-4ea2-4815-b6ba-c6e1fed36a95",
   "metadata": {},
   "outputs": [
    {
     "name": "stdout",
     "output_type": "stream",
     "text": [
      "11 <class 'int'>\n"
     ]
    }
   ],
   "source": [
    "num1 = int(input('enter first number: '))\n",
    "num2 = int(input('enter second number: '))\n",
    "\n",
    "print(num1 + num2, type(num1+num2))"
   ]
  },
  {
   "cell_type": "markdown",
   "id": "b10f45cb-b8a7-4169-aa29-a16d272e1675",
   "metadata": {},
   "source": [
    "#  Conditional statements\n",
    "\n",
    "## use to control the flow of the program"
   ]
  },
  {
   "cell_type": "code",
   "execution_count": 9,
   "id": "6e269128-cad2-409e-8747-32143994b0b4",
   "metadata": {},
   "outputs": [
    {
     "name": "stdout",
     "output_type": "stream",
     "text": [
      "Your age is 21. You are eligible to vote\n"
     ]
    }
   ],
   "source": [
    "age = int(input('enter your age: '))\n",
    "\n",
    "if age >= 18:\n",
    "    print(f'Your age is {age}. You are eligible to vote')\n",
    "else:\n",
    "    print(f'Your age is {age}. You are not eligible to vote')"
   ]
  },
  {
   "cell_type": "code",
   "execution_count": 13,
   "id": "c86cc8f2",
   "metadata": {},
   "outputs": [
    {
     "name": "stdout",
     "output_type": "stream",
     "text": [
      "Grade B\n"
     ]
    }
   ],
   "source": [
    "marks = float(input('enter your marks: '))\n",
    "\n",
    "if marks >= 90:\n",
    "    print('Grade A')\n",
    "elif marks >= 80:\n",
    "    print('Grade B')\n",
    "elif marks >= 70:\n",
    "    print('Grade C')\n",
    "else:\n",
    "    print('Grade D')"
   ]
  },
  {
   "cell_type": "code",
   "execution_count": 17,
   "id": "39170a76",
   "metadata": {},
   "outputs": [
    {
     "name": "stdout",
     "output_type": "stream",
     "text": [
      "number is 0\n"
     ]
    }
   ],
   "source": [
    "# Nested Conditional statement: NESTED IF\n",
    "\n",
    "num3 = int(input('enter a number: '))\n",
    "\n",
    "if num3 > 0:\n",
    "    if num3 % 2 == 0: # modulo\n",
    "        print('positive & even')\n",
    "    else:\n",
    "        print('positive & odd')\n",
    "elif num3 == 0:\n",
    "    print('number is 0')\n",
    "else:\n",
    "    print('Negative number')\n"
   ]
  },
  {
   "cell_type": "code",
   "execution_count": 18,
   "id": "a91b3278",
   "metadata": {},
   "outputs": [],
   "source": [
    "# Ternary Operator\n",
    "num4 = int(input('enter a number: '))\n",
    "result = 'even' if num4 % 2 == 0 else 'odd'"
   ]
  },
  {
   "cell_type": "code",
   "execution_count": 30,
   "id": "ea81f8f7",
   "metadata": {},
   "outputs": [
    {
     "name": "stdout",
     "output_type": "stream",
     "text": [
      "wrong age. pls enter correct age\n"
     ]
    }
   ],
   "source": [
    "user_age = float(input('enter your age: '))\n",
    "\n",
    "if user_age >= 60:\n",
    "    print('The person is senior citizen')\n",
    "elif user_age >= 20:\n",
    "    print('The person is an adult')\n",
    "elif user_age >= 13:\n",
    "    print('The person is teenager')\n",
    "elif user_age > 0:\n",
    "    print('The person is child')\n",
    "elif user_age < 0:\n",
    "    print('wrong age. pls enter correct age')\n",
    "else:\n",
    "    None"
   ]
  },
  {
   "cell_type": "code",
   "execution_count": 37,
   "id": "47adc753",
   "metadata": {},
   "outputs": [],
   "source": [
    "# Mini calculator\n",
    "\n",
    "def mini_calc():\n",
    "\n",
    "    a = float(input('enter first number: '))\n",
    "    b = float(input('enter second number: '))\n",
    "    op = input('enter the operation that you want to perform: add, subtract, multiply, divide')\n",
    "\n",
    "    if op.lower() == 'add':\n",
    "        print(f'the addition of {a} & {b} is {a+b}')\n",
    "    elif op.lower() == 'subtract':\n",
    "        print(f'{b} subtracted from {a} is {a-b}')\n",
    "    elif op.lower() == 'multiply':\n",
    "        print(f\"{a} multiplied by {b} is {a*b}\")\n",
    "    elif op.lower() == 'divide':\n",
    "        print(f\"{a} divided by {b} is {a/b}\")\n",
    "    else:\n",
    "        print('invalid operation')"
   ]
  },
  {
   "cell_type": "code",
   "execution_count": 39,
   "id": "fbebce45",
   "metadata": {},
   "outputs": [
    {
     "name": "stdout",
     "output_type": "stream",
     "text": [
      "-16.9 divided by 5.0 is -3.38\n"
     ]
    }
   ],
   "source": [
    "mini_calc()\n"
   ]
  },
  {
   "cell_type": "code",
   "execution_count": null,
   "id": "b1204b61",
   "metadata": {},
   "outputs": [],
   "source": []
  }
 ],
 "metadata": {
  "kernelspec": {
   "display_name": "base",
   "language": "python",
   "name": "python3"
  },
  "language_info": {
   "codemirror_mode": {
    "name": "ipython",
    "version": 3
   },
   "file_extension": ".py",
   "mimetype": "text/x-python",
   "name": "python",
   "nbconvert_exporter": "python",
   "pygments_lexer": "ipython3",
   "version": "3.12.7"
  }
 },
 "nbformat": 4,
 "nbformat_minor": 5
}
