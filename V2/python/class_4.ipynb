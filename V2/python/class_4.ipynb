{
 "cells": [
  {
   "cell_type": "code",
   "execution_count": 1,
   "id": "e5ff5991-02a0-494d-979b-54785e7a00af",
   "metadata": {},
   "outputs": [],
   "source": [
    "product_id = 9\n",
    "region_code = 2"
   ]
  },
  {
   "cell_type": "code",
   "execution_count": 2,
   "id": "ceac1984-0f17-4d99-9ef3-33437ccd22f3",
   "metadata": {},
   "outputs": [],
   "source": [
    "status_flag= 1"
   ]
  },
  {
   "cell_type": "code",
   "execution_count": null,
   "id": "9b3b0c2a-5e6f-4098-8673-8dd57633d4b5",
   "metadata": {},
   "outputs": [],
   "source": []
  },
  {
   "cell_type": "code",
   "execution_count": 6,
   "id": "72f215f8-e065-471e-9b7a-b43e7290bfa3",
   "metadata": {},
   "outputs": [
    {
     "data": {
      "text/plain": [
       "33.33333333333333"
      ]
     },
     "execution_count": 6,
     "metadata": {},
     "output_type": "execute_result"
    }
   ],
   "source": [
    "# Arithmetic operator\n",
    "\n",
    "revenue = 15000\n",
    "cost = 10000\n",
    "\n",
    "profit_margin = ((revenue - cost) / revenue) * 100\n",
    "profit_margin "
   ]
  },
  {
   "cell_type": "code",
   "execution_count": 7,
   "id": "08aabd4d-f05f-468f-8892-19596ca49687",
   "metadata": {},
   "outputs": [
    {
     "name": "stdout",
     "output_type": "stream",
     "text": [
      "product is in stock\n"
     ]
    }
   ],
   "source": [
    "# Comparision Operator\n",
    "\n",
    "inventory = 20\n",
    "if inventory > 0:\n",
    "    print(\"product is in stock\")\n",
    "else:\n",
    "    print(\"product is out of stock\")"
   ]
  },
  {
   "cell_type": "code",
   "execution_count": 9,
   "id": "f357347e-1ec1-44a8-a3e8-8d70daa7b117",
   "metadata": {},
   "outputs": [
    {
     "name": "stdout",
     "output_type": "stream",
     "text": [
      "Employee is eligible for bonus\n"
     ]
    }
   ],
   "source": [
    "# Logical operator\n",
    "\n",
    "performance_rating = 4.5\n",
    "years_of_service = 6\n",
    "\n",
    "if performance_rating >= 4.0 and years_of_service >= 5:\n",
    "    print(\"Employee is eligible for bonus\")\n",
    "else:\n",
    "    print(\"Employee is NOT eligible for bonus\")"
   ]
  },
  {
   "cell_type": "code",
   "execution_count": 11,
   "id": "9fe1b024-bf12-4c44-bed2-572a4355385c",
   "metadata": {},
   "outputs": [
    {
     "name": "stdout",
     "output_type": "stream",
     "text": [
      "Updated stock: 40\n"
     ]
    }
   ],
   "source": [
    "# Assignment Operator\n",
    "\n",
    "stock = 50\n",
    "sold_items = 10\n",
    "\n",
    "stock -= sold_items\n",
    "print(f\"Updated stock: {stock}\")"
   ]
  },
  {
   "cell_type": "code",
   "execution_count": 12,
   "id": "01bca542-de68-4965-a1df-776ba8ded906",
   "metadata": {},
   "outputs": [
    {
     "name": "stdout",
     "output_type": "stream",
     "text": [
      "access granted\n"
     ]
    }
   ],
   "source": [
    "# Membership Operator\n",
    "\n",
    "user_permissions = ['read', 'write', 'execute']\n",
    "required_permission = 'write'\n",
    "\n",
    "if required_permission in user_permissions:\n",
    "    print('access granted')\n",
    "else:\n",
    "    print('access denied')"
   ]
  },
  {
   "cell_type": "code",
   "execution_count": 13,
   "id": "a38f84e7-eea2-4ba7-81f4-f55adf302ba5",
   "metadata": {},
   "outputs": [
    {
     "name": "stdout",
     "output_type": "stream",
     "text": [
      "configurations match\n"
     ]
    }
   ],
   "source": [
    "# Identity Operators\n",
    "\n",
    "config1 = {'setting1': True, 'setting2': False}\n",
    "config2 = config1  # both refer to the same object\n",
    "\n",
    "if config1 is config2:\n",
    "    print('configurations match')\n",
    "else:\n",
    "    print('configurations do not match')"
   ]
  },
  {
   "cell_type": "markdown",
   "id": "b6ce10d3",
   "metadata": {},
   "source": [
    "#  typecasting"
   ]
  },
  {
   "cell_type": "code",
   "execution_count": null,
   "id": "3d302402-93b1-4c5e-a730-880dc24fa60f",
   "metadata": {},
   "outputs": [
    {
     "name": "stdout",
     "output_type": "stream",
     "text": [
      "54 <class 'str'>\n",
      "9 <class 'int'>\n"
     ]
    }
   ],
   "source": [
    "a = '5'\n",
    "b = '4'\n",
    "\n",
    "c = a+b\n",
    "print(c, type(c))\n",
    "\n",
    "d = int(a) + int(b) # explicit typecasting\n",
    "print(d, type(d))"
   ]
  },
  {
   "cell_type": "code",
   "execution_count": null,
   "id": "ef831b95-7386-48b5-adca-f7fd853464ea",
   "metadata": {},
   "outputs": [
    {
     "name": "stdout",
     "output_type": "stream",
     "text": [
      "13.5 <class 'float'>\n"
     ]
    }
   ],
   "source": [
    "x = 8\n",
    "y = 5.5\n",
    "\n",
    "z = x+y\n",
    "print(z, type(z))  # implicit typecasting"
   ]
  },
  {
   "cell_type": "code",
   "execution_count": 4,
   "id": "71647ec4-037b-4055-9684-3b866b82614a",
   "metadata": {},
   "outputs": [
    {
     "name": "stdout",
     "output_type": "stream",
     "text": [
      "<class 'list'>\n"
     ]
    }
   ],
   "source": [
    "l = [1,1,2,3,4,5,6,7,7,8,9]\n",
    "print(type(l))"
   ]
  },
  {
   "cell_type": "code",
   "execution_count": 5,
   "id": "912e507a",
   "metadata": {},
   "outputs": [
    {
     "name": "stdout",
     "output_type": "stream",
     "text": [
      "{1, 2, 3, 4, 5, 6, 7, 8, 9} <class 'set'>\n"
     ]
    }
   ],
   "source": [
    "s = set(l)\n",
    "print(s, type(s))"
   ]
  },
  {
   "cell_type": "code",
   "execution_count": 6,
   "id": "346e4840",
   "metadata": {},
   "outputs": [
    {
     "name": "stdout",
     "output_type": "stream",
     "text": [
      "[1, 2, 3, 4, 5, 6, 7, 8, 9] <class 'list'>\n"
     ]
    }
   ],
   "source": [
    "new_LIST = list(s)\n",
    "print(new_LIST, type(new_LIST))"
   ]
  },
  {
   "cell_type": "code",
   "execution_count": 7,
   "id": "55b2c473",
   "metadata": {},
   "outputs": [
    {
     "name": "stdout",
     "output_type": "stream",
     "text": [
      "2.2.3\n"
     ]
    }
   ],
   "source": [
    "import pandas as pd\n",
    "print(pd.__version__)"
   ]
  },
  {
   "cell_type": "code",
   "execution_count": null,
   "id": "d606d09c",
   "metadata": {},
   "outputs": [],
   "source": []
  },
  {
   "cell_type": "code",
   "execution_count": null,
   "id": "3d109831",
   "metadata": {},
   "outputs": [],
   "source": []
  },
  {
   "cell_type": "code",
   "execution_count": null,
   "id": "9add7d40",
   "metadata": {},
   "outputs": [],
   "source": []
  }
 ],
 "metadata": {
  "kernelspec": {
   "display_name": "base",
   "language": "python",
   "name": "python3"
  },
  "language_info": {
   "codemirror_mode": {
    "name": "ipython",
    "version": 3
   },
   "file_extension": ".py",
   "mimetype": "text/x-python",
   "name": "python",
   "nbconvert_exporter": "python",
   "pygments_lexer": "ipython3",
   "version": "3.12.7"
  }
 },
 "nbformat": 4,
 "nbformat_minor": 5
}
