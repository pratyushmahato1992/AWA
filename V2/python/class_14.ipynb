{
 "cells": [
  {
   "cell_type": "code",
   "execution_count": null,
   "id": "56026321",
   "metadata": {},
   "outputs": [],
   "source": [
    "# Break Statement: It is used to exit the loop even if the conditions are not met"
   ]
  },
  {
   "cell_type": "code",
   "execution_count": 13,
   "id": "ef9025ac",
   "metadata": {},
   "outputs": [
    {
     "name": "stdout",
     "output_type": "stream",
     "text": [
      "0 1 2 3 4 5 "
     ]
    }
   ],
   "source": [
    "for i in range(10):\n",
    "    print(i, end = \" \")\n",
    "    if i ==5:\n",
    "        break\n",
    "    "
   ]
  },
  {
   "cell_type": "code",
   "execution_count": 4,
   "id": "1af32ebe",
   "metadata": {},
   "outputs": [],
   "source": [
    "# Continue Statement: it skips the current iteration & moves to the next iteration"
   ]
  },
  {
   "cell_type": "code",
   "execution_count": 9,
   "id": "f230bf39",
   "metadata": {},
   "outputs": [
    {
     "name": "stdout",
     "output_type": "stream",
     "text": [
      "0, 1, 2, 3, 4, 6, 7, 8, 9, "
     ]
    }
   ],
   "source": [
    "for i in range(10):\n",
    "    if i ==5:\n",
    "        continue\n",
    "    print(i, end= \", \")"
   ]
  },
  {
   "cell_type": "code",
   "execution_count": null,
   "id": "0e884efc",
   "metadata": {},
   "outputs": [
    {
     "name": "stdout",
     "output_type": "stream",
     "text": [
      "1, 3, 5, 7, 9, "
     ]
    }
   ],
   "source": [
    "# print all ODD numbers\n",
    "for i in range(10):\n",
    "    if i%2 == 0:\n",
    "        continue\n",
    "    print(i, end = \", \")"
   ]
  },
  {
   "cell_type": "code",
   "execution_count": 16,
   "id": "e224c260",
   "metadata": {},
   "outputs": [
    {
     "name": "stdout",
     "output_type": "stream",
     "text": [
      "0,1,1,2,3,3,4,5,5,6,7,7,8,9,9,"
     ]
    }
   ],
   "source": [
    "for i in range(10):\n",
    "    print(i, end = \",\")\n",
    "    if i % 2 == 0:\n",
    "        continue\n",
    "    print(i, end = \",\")"
   ]
  },
  {
   "cell_type": "code",
   "execution_count": 17,
   "id": "e5f0b4ec",
   "metadata": {},
   "outputs": [
    {
     "name": "stdout",
     "output_type": "stream",
     "text": [
      "1|2|3|4|5|6|7|8|9|10|"
     ]
    }
   ],
   "source": [
    "i = 1\n",
    "while i <= 10:\n",
    "    print(i, end=\"|\")\n",
    "    i+=1"
   ]
  },
  {
   "cell_type": "code",
   "execution_count": 1,
   "id": "15fec304",
   "metadata": {},
   "outputs": [
    {
     "name": "stdout",
     "output_type": "stream",
     "text": [
      "1 3 5 7 9 11 "
     ]
    }
   ],
   "source": [
    "i = 0\n",
    "while i <= 10:\n",
    "    i+=1\n",
    "    if i % 2 == 0:\n",
    "        continue\n",
    "    print(i, end= \" \")\n",
    "    "
   ]
  },
  {
   "cell_type": "code",
   "execution_count": 3,
   "id": "06d83fce",
   "metadata": {},
   "outputs": [
    {
     "name": "stdout",
     "output_type": "stream",
     "text": [
      "the sum of first 5 natural numbers is 15\n"
     ]
    }
   ],
   "source": [
    "n = 5\n",
    "i = 1\n",
    "sum = 0\n",
    "while i <= 5:\n",
    "    sum = sum+ i\n",
    "    i+=1\n",
    "print(f\"the sum of first {n} natural numbers is {sum}\")"
   ]
  },
  {
   "cell_type": "code",
   "execution_count": null,
   "id": "7a40230f",
   "metadata": {},
   "outputs": [
    {
     "name": "stdout",
     "output_type": "stream",
     "text": [
      "1\n",
      "d\n",
      "#\n",
      "*\n",
      "&\n",
      "quit\n"
     ]
    }
   ],
   "source": [
    "user_input = \"\"\n",
    "while user_input.lower() != \"quit\":\n",
    "    user_input = input(\"enter a value: \")\n",
    "    print(user_input, end =\" \")"
   ]
  },
  {
   "cell_type": "code",
   "execution_count": null,
   "id": "4d09628b",
   "metadata": {},
   "outputs": [
    {
     "name": "stdout",
     "output_type": "stream",
     "text": [
      "you have entered: avcd. Type quit to exit.\n",
      "you have entered: quite. Type quit to exit.\n",
      "you have entered: quiet. Type quit to exit.\n"
     ]
    }
   ],
   "source": [
    "user_input = \"\"\n",
    "while user_input.lower() != \"quit\":\n",
    "    user_input = input(\" Type quit to exit: \")\n",
    "    if user_input != \"quit\":\n",
    "        print(f\"you have entered: {user_input}. Type quit to exit.\")"
   ]
  },
  {
   "cell_type": "code",
   "execution_count": 2,
   "id": "b642f15c",
   "metadata": {},
   "outputs": [
    {
     "name": "stdout",
     "output_type": "stream",
     "text": [
      "1\n",
      "2\n",
      "3\n",
      "4\n",
      "5\n",
      "breaking the loop when number is 5.\n"
     ]
    }
   ],
   "source": [
    "num = 1 \n",
    "while num <= 10:\n",
    "    print(num)\n",
    "    if num == 5:\n",
    "        print(\"breaking the loop when number is 5.\")\n",
    "        break\n",
    "    num += 1\n"
   ]
  },
  {
   "cell_type": "code",
   "execution_count": 3,
   "id": "7239ef22",
   "metadata": {},
   "outputs": [
    {
     "name": "stdout",
     "output_type": "stream",
     "text": [
      "looping... 0\n",
      "looping... 1\n",
      "looping... 2\n",
      "looping... 3\n",
      "looping... 4\n"
     ]
    }
   ],
   "source": [
    "count = 0\n",
    "while True:\n",
    "    print(f\"looping... {count}\")\n",
    "    count += 1\n",
    "    if count == 5:\n",
    "        break"
   ]
  },
  {
   "cell_type": "code",
   "execution_count": null,
   "id": "72ad274c",
   "metadata": {},
   "outputs": [
    {
     "name": "stdout",
     "output_type": "stream",
     "text": [
      "The factorial of 5 is 120\n"
     ]
    }
   ],
   "source": [
    "# Factorial\n",
    "\n",
    "num_input = int(input(\"enter a number: \"))\n",
    "\n",
    "fact = 1\n",
    "num = num_input\n",
    "while num > 0:\n",
    "    fact = fact * num\n",
    "    num = num -1\n",
    "print(f\"The factorial of {num_input} is {fact}\")\n",
    "\n"
   ]
  },
  {
   "cell_type": "code",
   "execution_count": null,
   "id": "9acec325",
   "metadata": {},
   "outputs": [
    {
     "name": "stdout",
     "output_type": "stream",
     "text": [
      "Too High\n",
      "Too High\n",
      "Too Low\n",
      "Congrats! You guessed corrctly.\n"
     ]
    }
   ],
   "source": [
    "secret_num = 7\n",
    "guess = None\n",
    "\n",
    "while secret_num != guess:\n",
    "    guess = int(input(\"Guesss the secret number between 0-9: \"))\n",
    "    if guess < secret_num:\n",
    "        print(\"Too Low\")\n",
    "    elif guess > secret_num:\n",
    "        print(\"Too High\")\n",
    "    else:\n",
    "        print(\"Congrats! You guessed corrctly.\")"
   ]
  },
  {
   "cell_type": "code",
   "execution_count": 26,
   "id": "b090a7bc",
   "metadata": {},
   "outputs": [
    {
     "data": {
      "text/plain": [
       "[4, 3, 2, 1]"
      ]
     },
     "execution_count": 26,
     "metadata": {},
     "output_type": "execute_result"
    }
   ],
   "source": [
    "my_list = [1,2,3,4]\n",
    "reverse_list = []\n",
    "\n",
    "my_list[::-1]"
   ]
  },
  {
   "cell_type": "code",
   "execution_count": null,
   "id": "dd33f2b7",
   "metadata": {},
   "outputs": [
    {
     "name": "stdout",
     "output_type": "stream",
     "text": [
      "[4, 3, 2, 1]\n"
     ]
    }
   ],
   "source": [
    "# reverse a list with Loops\n",
    "for i in range(len(my_list),0,-1):\n",
    "    reverse_list.append(my_list[i-1])\n",
    "print(reverse_list)"
   ]
  },
  {
   "cell_type": "code",
   "execution_count": 29,
   "id": "dfdc0e4d",
   "metadata": {},
   "outputs": [
    {
     "name": "stdout",
     "output_type": "stream",
     "text": [
      "[4, 3, 2, 1]\n"
     ]
    }
   ],
   "source": [
    "my_list = [1,2,3,4]\n",
    "reversed_list = []\n",
    "\n",
    "i = len(my_list) - 1\n",
    "while i >= 0:\n",
    "    reversed_list.append(my_list[i])\n",
    "    i -=1\n",
    "\n",
    "print(reversed_list)"
   ]
  },
  {
   "cell_type": "code",
   "execution_count": 35,
   "id": "3d5f71cc",
   "metadata": {},
   "outputs": [
    {
     "name": "stdout",
     "output_type": "stream",
     "text": [
      "0 1 1 2 3 5 8 13 21 "
     ]
    }
   ],
   "source": [
    "# Fibonacci Series\n",
    "a,b = 0,1\n",
    "\n",
    "while a < 30:\n",
    "    print(a, end = \" \")\n",
    "    a,b = b, a+b\n"
   ]
  },
  {
   "cell_type": "code",
   "execution_count": null,
   "id": "d2fabaa3",
   "metadata": {},
   "outputs": [
    {
     "name": "stdout",
     "output_type": "stream",
     "text": [
      "1 2 3 4 5 6 7 8 9 10 \n",
      "2 4 6 8 10 12 14 16 18 20 \n",
      "3 6 9 12 15 18 21 24 27 30 \n",
      "4 8 12 16 20 24 28 32 36 40 \n",
      "5 10 15 20 25 30 35 40 45 50 \n",
      "6 12 18 24 30 36 42 48 54 60 \n",
      "7 14 21 28 35 42 49 56 63 70 \n",
      "8 16 24 32 40 48 56 64 72 80 \n",
      "9 18 27 36 45 54 63 72 81 90 \n",
      "10 20 30 40 50 60 70 80 90 100 \n"
     ]
    }
   ],
   "source": [
    "# Table of numbers\n",
    "i = 1\n",
    "\n",
    "while i <= 10:\n",
    "    j = 1\n",
    "    while j <= 10:\n",
    "        print(i*j, end = \" \")\n",
    "        j += 1\n",
    "    print()\n",
    "    i+=1"
   ]
  },
  {
   "cell_type": "code",
   "execution_count": null,
   "id": "80c7af9c",
   "metadata": {},
   "outputs": [
    {
     "name": "stdout",
     "output_type": "stream",
     "text": [
      "54321 <class 'int'>\n"
     ]
    }
   ],
   "source": [
    "# Reverse an Integer\n",
    "num1 = 12345\n",
    "str_num1 = str(num1)\n",
    "\n",
    "x = str_num1[::-1]\n",
    "y = int(x)\n",
    "print(y, type(y))"
   ]
  },
  {
   "cell_type": "code",
   "execution_count": 51,
   "id": "8c49a02d",
   "metadata": {},
   "outputs": [
    {
     "name": "stdout",
     "output_type": "stream",
     "text": [
      "Reversed number: 54321\n"
     ]
    }
   ],
   "source": [
    "num2 = -12345\n",
    "if num2 < 0:\n",
    "    num2 = num2 * (-1)\n",
    "rev_num2 = 0\n",
    "while num2 > 0:\n",
    "    digi = num2 % 10\n",
    "    rev_num2 = rev_num2 * 10 + digi\n",
    "    num2 = num2//10\n",
    "print(f\"Reversed number: {rev_num2}\")"
   ]
  },
  {
   "cell_type": "code",
   "execution_count": 53,
   "id": "52634a66",
   "metadata": {},
   "outputs": [
    {
     "name": "stdout",
     "output_type": "stream",
     "text": [
      "Wrong password! Attempt 1 of 3.\n",
      "Wrong password! Attempt 2 of 3.\n",
      "Wrong password! Attempt 3 of 3.\n",
      "Too many failed attempts. You are now locked for 24 hrs!\n",
      "You're locked out! Pls wait for 24 hrs.\n",
      "You can try logging in now.\n",
      "Login Successful!\n"
     ]
    }
   ],
   "source": [
    "import time\n",
    "\n",
    "# Predefined correct password\n",
    "correct_password = \"mypassword\"\n",
    "\n",
    "# initialize variables\n",
    "attempts = 0\n",
    "max_attempts = 3\n",
    "locked = False\n",
    "\n",
    "# Simulated 24-hour clock (for demo, we will use few seconds)\n",
    "lock_duration = 20 # lock for 20 secs for testing (Use 86400 for 24hrs)\n",
    "\n",
    "# Main loop to handle password input\n",
    "while True:\n",
    "    if locked:\n",
    "        print(\"You're locked out! Pls wait for 24 hrs.\")\n",
    "        time.sleep(lock_duration)\n",
    "        print(\"You can try logging in now.\")\n",
    "        attempts = 0\n",
    "        locked = False\n",
    "\n",
    "        # Asking the user for password\n",
    "    password = input(\"Enter your password: \")\n",
    "\n",
    "    if password == correct_password:\n",
    "        print(\"Login Successful!\")\n",
    "        break\n",
    "    else:\n",
    "        attempts += 1\n",
    "        print(f\"Wrong password! Attempt {attempts} of {max_attempts}.\")\n",
    "\n",
    "    if attempts >= max_attempts:\n",
    "        print(\"Too many failed attempts. You are now locked for 24 hrs!\")\n",
    "        locked = True"
   ]
  },
  {
   "cell_type": "code",
   "execution_count": null,
   "id": "18614d59",
   "metadata": {},
   "outputs": [],
   "source": []
  }
 ],
 "metadata": {
  "kernelspec": {
   "display_name": "base",
   "language": "python",
   "name": "python3"
  },
  "language_info": {
   "codemirror_mode": {
    "name": "ipython",
    "version": 3
   },
   "file_extension": ".py",
   "mimetype": "text/x-python",
   "name": "python",
   "nbconvert_exporter": "python",
   "pygments_lexer": "ipython3",
   "version": "3.12.7"
  }
 },
 "nbformat": 4,
 "nbformat_minor": 5
}
