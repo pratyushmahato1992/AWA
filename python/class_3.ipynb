{
 "cells": [
  {
   "cell_type": "code",
   "execution_count": 1,
   "id": "f6a4e620-1c10-48ff-82f8-f78fb3ac3e02",
   "metadata": {},
   "outputs": [],
   "source": [
    "num = 10 "
   ]
  },
  {
   "cell_type": "code",
   "execution_count": 3,
   "id": "aa2e2236-192a-4d2b-94ee-d055656f9b02",
   "metadata": {},
   "outputs": [
    {
     "data": {
      "text/plain": [
       "int"
      ]
     },
     "execution_count": 3,
     "metadata": {},
     "output_type": "execute_result"
    }
   ],
   "source": [
    "type(num)"
   ]
  },
  {
   "cell_type": "code",
   "execution_count": 4,
   "id": "a853ce79-94b0-47bc-8c06-e20e51969b52",
   "metadata": {},
   "outputs": [],
   "source": [
    "num1, num2 = 10, 20"
   ]
  },
  {
   "cell_type": "code",
   "execution_count": 5,
   "id": "824b4657-d89a-4c21-b219-ef502772f9e8",
   "metadata": {},
   "outputs": [
    {
     "data": {
      "text/plain": [
       "10"
      ]
     },
     "execution_count": 5,
     "metadata": {},
     "output_type": "execute_result"
    }
   ],
   "source": [
    "num1"
   ]
  },
  {
   "cell_type": "code",
   "execution_count": 6,
   "id": "0dd748f2-6780-42f9-b06f-6405415c4bd0",
   "metadata": {},
   "outputs": [
    {
     "data": {
      "text/plain": [
       "20"
      ]
     },
     "execution_count": 6,
     "metadata": {},
     "output_type": "execute_result"
    }
   ],
   "source": [
    "num2"
   ]
  },
  {
   "cell_type": "code",
   "execution_count": 7,
   "id": "1276a547-f7b0-424a-89da-1144f196fea9",
   "metadata": {},
   "outputs": [],
   "source": [
    "num1, num2  = 10, 10.5"
   ]
  },
  {
   "cell_type": "code",
   "execution_count": 8,
   "id": "efee6094-98ef-44d3-82b1-e64768d438f5",
   "metadata": {},
   "outputs": [
    {
     "data": {
      "text/plain": [
       "10"
      ]
     },
     "execution_count": 8,
     "metadata": {},
     "output_type": "execute_result"
    }
   ],
   "source": [
    "num1"
   ]
  },
  {
   "cell_type": "code",
   "execution_count": 9,
   "id": "4ae5e552-2613-4559-bc60-a9762d7a5ed8",
   "metadata": {},
   "outputs": [
    {
     "data": {
      "text/plain": [
       "10.5"
      ]
     },
     "execution_count": 9,
     "metadata": {},
     "output_type": "execute_result"
    }
   ],
   "source": [
    "num2"
   ]
  },
  {
   "cell_type": "code",
   "execution_count": 10,
   "id": "5f99c09c-6f45-43b6-a19e-5c40f11e66ce",
   "metadata": {},
   "outputs": [
    {
     "data": {
      "text/plain": [
       "int"
      ]
     },
     "execution_count": 10,
     "metadata": {},
     "output_type": "execute_result"
    }
   ],
   "source": [
    "type(num1)"
   ]
  },
  {
   "cell_type": "code",
   "execution_count": 11,
   "id": "f0b0656a-2a1e-4c0b-9108-ef456e95b7a9",
   "metadata": {},
   "outputs": [
    {
     "data": {
      "text/plain": [
       "float"
      ]
     },
     "execution_count": 11,
     "metadata": {},
     "output_type": "execute_result"
    }
   ],
   "source": [
    "type(num2)"
   ]
  },
  {
   "cell_type": "code",
   "execution_count": 12,
   "id": "c32f040a-37d8-4f07-8d96-0c7c203678d5",
   "metadata": {},
   "outputs": [
    {
     "data": {
      "text/plain": [
       "20.5"
      ]
     },
     "execution_count": 12,
     "metadata": {},
     "output_type": "execute_result"
    }
   ],
   "source": [
    "num1 + num2"
   ]
  },
  {
   "cell_type": "code",
   "execution_count": 14,
   "id": "f4a25b76-df1c-4299-bf64-6c7d064e416c",
   "metadata": {},
   "outputs": [],
   "source": [
    "num3 = 2 + 3j"
   ]
  },
  {
   "cell_type": "code",
   "execution_count": 15,
   "id": "05378ec6-8492-4aff-a102-ebeeb5bcd10e",
   "metadata": {},
   "outputs": [
    {
     "data": {
      "text/plain": [
       "complex"
      ]
     },
     "execution_count": 15,
     "metadata": {},
     "output_type": "execute_result"
    }
   ],
   "source": [
    "type(num3)"
   ]
  },
  {
   "cell_type": "code",
   "execution_count": 16,
   "id": "4ccb2587-9cc4-48bc-9009-d2074fb977c9",
   "metadata": {},
   "outputs": [],
   "source": [
    "num4 = None"
   ]
  },
  {
   "cell_type": "code",
   "execution_count": 17,
   "id": "b4c9de19-c1c7-4f54-885e-f57d10617cbe",
   "metadata": {},
   "outputs": [
    {
     "data": {
      "text/plain": [
       "NoneType"
      ]
     },
     "execution_count": 17,
     "metadata": {},
     "output_type": "execute_result"
    }
   ],
   "source": [
    "type(num4)"
   ]
  },
  {
   "cell_type": "code",
   "execution_count": 1,
   "id": "e73c7c52-1ab8-4b7f-82d3-79f4af7bf717",
   "metadata": {},
   "outputs": [
    {
     "data": {
      "text/plain": [
       "(2+3j)"
      ]
     },
     "execution_count": 1,
     "metadata": {},
     "output_type": "execute_result"
    }
   ],
   "source": [
    "# complex number\n",
    "x = 2 + 3j\n",
    "x"
   ]
  },
  {
   "cell_type": "code",
   "execution_count": 3,
   "id": "71984d50-30ee-4de3-9ce0-ecdd1e008a45",
   "metadata": {},
   "outputs": [
    {
     "name": "stdout",
     "output_type": "stream",
     "text": [
      "True <class 'bool'>\n",
      "False <class 'bool'>\n"
     ]
    }
   ],
   "source": [
    "# Boolean\n",
    "b1 = True\n",
    "b2 = False\n",
    "\n",
    "print(b1, type(b1))\n",
    "print(b2, type(b2))"
   ]
  },
  {
   "cell_type": "code",
   "execution_count": 4,
   "id": "ae8ef891",
   "metadata": {},
   "outputs": [
    {
     "name": "stdout",
     "output_type": "stream",
     "text": [
      "my name is Pratyush <class 'str'>\n"
     ]
    }
   ],
   "source": [
    "# Sequence variable: String, Tuple, List\n",
    "my_str = \"my name is Pratyush\"\n",
    "print(my_str, type(my_str))"
   ]
  },
  {
   "cell_type": "code",
   "execution_count": null,
   "id": "c15c1015",
   "metadata": {},
   "outputs": [
    {
     "name": "stdout",
     "output_type": "stream",
     "text": [
      "(1, 2, 3, 4, 'ab', (2+3j)) <class 'tuple'>\n"
     ]
    }
   ],
   "source": [
    "# Tuple: immutable\n",
    "my_tup = (1,2,3,4, \"ab\", 2+3j)\n",
    "print(my_tup, type(my_tup))"
   ]
  },
  {
   "cell_type": "code",
   "execution_count": 8,
   "id": "c32ae979",
   "metadata": {},
   "outputs": [
    {
     "name": "stdout",
     "output_type": "stream",
     "text": [
      "{1, 2, 3, 4, 5, (2+5j), 'abc'} <class 'set'>\n"
     ]
    }
   ],
   "source": [
    "# Set: duplicates are NOT allowed\n",
    "my_set = {1,2,3,4,5,2,4, \"abc\", \"abc\", 2+5j}\n",
    "print(my_set, type(my_set))"
   ]
  },
  {
   "cell_type": "code",
   "execution_count": null,
   "id": "8f5928cd",
   "metadata": {},
   "outputs": [
    {
     "name": "stdout",
     "output_type": "stream",
     "text": [
      "{'a': 7, 'b': 3} <class 'dict'>\n"
     ]
    }
   ],
   "source": [
    "# Dictionary: duplicate keys are NOT allowed, else value will overwrite\n",
    "my_dict = {\"a\": 1, \"b\": 3, \"a\": 7}\n",
    "print(my_dict, type(my_dict))"
   ]
  },
  {
   "cell_type": "code",
   "execution_count": 12,
   "id": "8ce40cdb",
   "metadata": {},
   "outputs": [
    {
     "data": {
      "text/plain": [
       "7"
      ]
     },
     "execution_count": 12,
     "metadata": {},
     "output_type": "execute_result"
    }
   ],
   "source": [
    "my_dict['a']"
   ]
  },
  {
   "cell_type": "code",
   "execution_count": 17,
   "id": "a6160311",
   "metadata": {},
   "outputs": [
    {
     "name": "stdout",
     "output_type": "stream",
     "text": [
      "{} <class 'dict'>\n",
      "set() <class 'set'>\n"
     ]
    }
   ],
   "source": [
    "# Creation of Empty Set & Empty Dictionary\n",
    "\n",
    "s1 = {}\n",
    "s2 = set()\n",
    "\n",
    "print(s1, type(s1))\n",
    "print(s2, type(s2))"
   ]
  },
  {
   "cell_type": "markdown",
   "id": "edb4b07f",
   "metadata": {},
   "source": [
    "# Operators in Python"
   ]
  },
  {
   "cell_type": "code",
   "execution_count": 34,
   "id": "b5f01958",
   "metadata": {},
   "outputs": [
    {
     "name": "stdout",
     "output_type": "stream",
     "text": [
      "Sum: 25\n",
      "Substract:  11\n",
      "Multiply: 126\n",
      "Division: 2.5714285714285716\n",
      "Floor Division:  2 (gives the Quotient)\n",
      "Modulo:  4 (gives the remainder)\n",
      "Power:  612220032\n"
     ]
    }
   ],
   "source": [
    "# Arithmetic Operators\n",
    "num1 = 18\n",
    "num2 = 7\n",
    "\n",
    "print(\"Sum:\", num1 + num2)\n",
    "print(\"Substract: \", num1 - num2)\n",
    "print(\"Multiply:\", num1 * num2)\n",
    "print(\"Division:\", num1 / num2)\n",
    "print(\"Floor Division: \", num1 // num2, \"(gives the Quotient)\")\n",
    "print(\"Modulo: \", num1 % num2, \"(gives the remainder)\")\n",
    "print(\"Power: \", num1 ** num2)"
   ]
  },
  {
   "cell_type": "code",
   "execution_count": 48,
   "id": "1a5de69d",
   "metadata": {},
   "outputs": [
    {
     "name": "stdout",
     "output_type": "stream",
     "text": [
      "a: 5\n",
      "b: 3\n",
      "8\n"
     ]
    }
   ],
   "source": [
    "# Assignment Operators\n",
    "\n",
    "a = 5\n",
    "b =  3\n",
    "print(\"a:\", a)\n",
    "print(\"b:\", b)\n",
    "print(a+b)\n"
   ]
  },
  {
   "cell_type": "code",
   "execution_count": 49,
   "id": "06949b65",
   "metadata": {},
   "outputs": [
    {
     "name": "stdout",
     "output_type": "stream",
     "text": [
      "8\n"
     ]
    }
   ],
   "source": [
    "a+= b\n",
    "print(a)"
   ]
  },
  {
   "cell_type": "code",
   "execution_count": 3,
   "id": "537ff0b7",
   "metadata": {},
   "outputs": [
    {
     "name": "stdout",
     "output_type": "stream",
     "text": [
      "-7\n"
     ]
    }
   ],
   "source": [
    "a = 3\n",
    "b= 10\n",
    "a-=b\n",
    "print(a)"
   ]
  },
  {
   "cell_type": "code",
   "execution_count": 52,
   "id": "9bc57f06",
   "metadata": {},
   "outputs": [
    {
     "name": "stdout",
     "output_type": "stream",
     "text": [
      "-70\n"
     ]
    }
   ],
   "source": [
    "a *=b\n",
    "print(a)"
   ]
  },
  {
   "cell_type": "code",
   "execution_count": null,
   "id": "23beb817",
   "metadata": {},
   "outputs": [],
   "source": [
    "# Comparision Operator: ==, <, >, <=, >=, !="
   ]
  },
  {
   "cell_type": "code",
   "execution_count": 4,
   "id": "4b71c4cc",
   "metadata": {},
   "outputs": [
    {
     "data": {
      "text/plain": [
       "False"
      ]
     },
     "execution_count": 4,
     "metadata": {},
     "output_type": "execute_result"
    }
   ],
   "source": [
    "a == b"
   ]
  },
  {
   "cell_type": "code",
   "execution_count": 5,
   "id": "46309d85",
   "metadata": {},
   "outputs": [
    {
     "data": {
      "text/plain": [
       "False"
      ]
     },
     "execution_count": 5,
     "metadata": {},
     "output_type": "execute_result"
    }
   ],
   "source": [
    "a > b"
   ]
  },
  {
   "cell_type": "code",
   "execution_count": 6,
   "id": "ee09f34d",
   "metadata": {},
   "outputs": [
    {
     "data": {
      "text/plain": [
       "True"
      ]
     },
     "execution_count": 6,
     "metadata": {},
     "output_type": "execute_result"
    }
   ],
   "source": [
    "a < b"
   ]
  },
  {
   "cell_type": "code",
   "execution_count": 7,
   "id": "602c515a",
   "metadata": {},
   "outputs": [
    {
     "data": {
      "text/plain": [
       "True"
      ]
     },
     "execution_count": 7,
     "metadata": {},
     "output_type": "execute_result"
    }
   ],
   "source": [
    "a <= b"
   ]
  },
  {
   "cell_type": "code",
   "execution_count": 10,
   "id": "009cfe81",
   "metadata": {},
   "outputs": [
    {
     "data": {
      "text/plain": [
       "False"
      ]
     },
     "execution_count": 10,
     "metadata": {},
     "output_type": "execute_result"
    }
   ],
   "source": [
    "a >= b"
   ]
  },
  {
   "cell_type": "code",
   "execution_count": 11,
   "id": "d673d604",
   "metadata": {},
   "outputs": [
    {
     "data": {
      "text/plain": [
       "True"
      ]
     },
     "execution_count": 11,
     "metadata": {},
     "output_type": "execute_result"
    }
   ],
   "source": [
    "a != b"
   ]
  },
  {
   "cell_type": "code",
   "execution_count": null,
   "id": "ba0dcc04",
   "metadata": {},
   "outputs": [],
   "source": [
    "# Logical Operator: AND, OR, NOT"
   ]
  },
  {
   "cell_type": "code",
   "execution_count": 13,
   "id": "4ba6db04",
   "metadata": {},
   "outputs": [],
   "source": [
    "a = True\n",
    "b = False"
   ]
  },
  {
   "cell_type": "code",
   "execution_count": 14,
   "id": "93ba0bb3",
   "metadata": {},
   "outputs": [
    {
     "name": "stdout",
     "output_type": "stream",
     "text": [
      "False\n"
     ]
    }
   ],
   "source": [
    "print(a and b)"
   ]
  },
  {
   "cell_type": "code",
   "execution_count": 15,
   "id": "95ed96d4",
   "metadata": {},
   "outputs": [
    {
     "name": "stdout",
     "output_type": "stream",
     "text": [
      "True\n"
     ]
    }
   ],
   "source": [
    "print( a or b)"
   ]
  },
  {
   "cell_type": "code",
   "execution_count": 16,
   "id": "cf1296dd",
   "metadata": {},
   "outputs": [
    {
     "name": "stdout",
     "output_type": "stream",
     "text": [
      "False\n"
     ]
    }
   ],
   "source": [
    "a1 = False\n",
    "b1 = False\n",
    "\n",
    "print(a1 and b1)"
   ]
  },
  {
   "cell_type": "code",
   "execution_count": 17,
   "id": "7811f17d",
   "metadata": {},
   "outputs": [
    {
     "name": "stdout",
     "output_type": "stream",
     "text": [
      "False\n"
     ]
    }
   ],
   "source": [
    "print(not a)"
   ]
  },
  {
   "cell_type": "code",
   "execution_count": 18,
   "id": "455eacd3",
   "metadata": {},
   "outputs": [
    {
     "name": "stdout",
     "output_type": "stream",
     "text": [
      "True\n"
     ]
    }
   ],
   "source": [
    "print(not a1)"
   ]
  },
  {
   "cell_type": "code",
   "execution_count": null,
   "id": "548c86b4",
   "metadata": {},
   "outputs": [],
   "source": [
    "# Bitwise Operator: &, |, ~, "
   ]
  },
  {
   "cell_type": "code",
   "execution_count": null,
   "id": "78047593",
   "metadata": {},
   "outputs": [],
   "source": [
    "# Identity Operator: IS, IS NOT (same memory location or not)\n",
    "x1 = 5\n",
    "y1 = 5\n",
    "x2 = \"Hello\"\n",
    "y2 = \"Hello\"\n",
    "x3 = [1,2,3]\n",
    "y3 = [1,2,3]\n"
   ]
  },
  {
   "cell_type": "code",
   "execution_count": 22,
   "id": "852794e9",
   "metadata": {},
   "outputs": [
    {
     "name": "stdout",
     "output_type": "stream",
     "text": [
      "False\n"
     ]
    }
   ],
   "source": [
    "print(x1 is not y1)"
   ]
  },
  {
   "cell_type": "code",
   "execution_count": 24,
   "id": "5674dbab",
   "metadata": {},
   "outputs": [
    {
     "name": "stdout",
     "output_type": "stream",
     "text": [
      "True\n"
     ]
    }
   ],
   "source": [
    "print(x2 is y2)"
   ]
  },
  {
   "cell_type": "code",
   "execution_count": null,
   "id": "b668cd43",
   "metadata": {},
   "outputs": [
    {
     "name": "stdout",
     "output_type": "stream",
     "text": [
      "False\n"
     ]
    }
   ],
   "source": [
    "print(x3 is y3)"
   ]
  },
  {
   "cell_type": "code",
   "execution_count": null,
   "id": "44a34507",
   "metadata": {},
   "outputs": [],
   "source": [
    "# Membership operator: IN, NOT IN"
   ]
  },
  {
   "cell_type": "code",
   "execution_count": 27,
   "id": "f25f5ce6",
   "metadata": {},
   "outputs": [
    {
     "data": {
      "text/plain": [
       "True"
      ]
     },
     "execution_count": 27,
     "metadata": {},
     "output_type": "execute_result"
    }
   ],
   "source": [
    "l = [1,2,3,4]\n",
    "1 in l"
   ]
  },
  {
   "cell_type": "code",
   "execution_count": 28,
   "id": "5e0929e5",
   "metadata": {},
   "outputs": [
    {
     "data": {
      "text/plain": [
       "False"
      ]
     },
     "execution_count": 28,
     "metadata": {},
     "output_type": "execute_result"
    }
   ],
   "source": [
    "5 in l"
   ]
  },
  {
   "cell_type": "code",
   "execution_count": 29,
   "id": "b9a95bed",
   "metadata": {},
   "outputs": [
    {
     "data": {
      "text/plain": [
       "False"
      ]
     },
     "execution_count": 29,
     "metadata": {},
     "output_type": "execute_result"
    }
   ],
   "source": [
    "2 not in l"
   ]
  },
  {
   "cell_type": "code",
   "execution_count": null,
   "id": "8a47c0c7",
   "metadata": {},
   "outputs": [],
   "source": []
  }
 ],
 "metadata": {
  "kernelspec": {
   "display_name": "base",
   "language": "python",
   "name": "python3"
  },
  "language_info": {
   "codemirror_mode": {
    "name": "ipython",
    "version": 3
   },
   "file_extension": ".py",
   "mimetype": "text/x-python",
   "name": "python",
   "nbconvert_exporter": "python",
   "pygments_lexer": "ipython3",
   "version": "3.12.7"
  }
 },
 "nbformat": 4,
 "nbformat_minor": 5
}
